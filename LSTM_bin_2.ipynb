{
 "cells": [
  {
   "cell_type": "code",
   "execution_count": 1,
   "id": "f20d4bdc-79e4-4f13-ba05-0f6d842ef564",
   "metadata": {},
   "outputs": [],
   "source": [
    "import numpy as np\n",
    "import pandas as pd\n",
    "\n",
    "from sklearn.feature_extraction.text import CountVectorizer\n",
    "from keras.preprocessing.text import Tokenizer\n",
    "from keras_preprocessing.sequence import pad_sequences\n",
    "from keras.models import Sequential\n",
    "from keras.layers import Dense, Embedding, LSTM, SpatialDropout1D\n",
    "from sklearn.model_selection import train_test_split\n",
    "from keras.utils.np_utils import to_categorical\n",
    "from keras.callbacks import EarlyStopping\n",
    "\n",
    "import re"
   ]
  },
  {
   "cell_type": "code",
   "execution_count": 2,
   "id": "1d1b9295-a5c0-4c95-8f0c-c14db5c5697f",
   "metadata": {},
   "outputs": [
    {
     "data": {
      "text/html": [
       "<div>\n",
       "<style scoped>\n",
       "    .dataframe tbody tr th:only-of-type {\n",
       "        vertical-align: middle;\n",
       "    }\n",
       "\n",
       "    .dataframe tbody tr th {\n",
       "        vertical-align: top;\n",
       "    }\n",
       "\n",
       "    .dataframe thead th {\n",
       "        text-align: right;\n",
       "    }\n",
       "</style>\n",
       "<table border=\"1\" class=\"dataframe\">\n",
       "  <thead>\n",
       "    <tr style=\"text-align: right;\">\n",
       "      <th></th>\n",
       "      <th>Sentence</th>\n",
       "      <th>Sentiment</th>\n",
       "    </tr>\n",
       "  </thead>\n",
       "  <tbody>\n",
       "    <tr>\n",
       "      <th>0</th>\n",
       "      <td>The GeoSolutions technology will leverage Bene...</td>\n",
       "      <td>positive</td>\n",
       "    </tr>\n",
       "    <tr>\n",
       "      <th>1</th>\n",
       "      <td>$ESI on lows, down $1.50 to $2.50 BK a real po...</td>\n",
       "      <td>negative</td>\n",
       "    </tr>\n",
       "    <tr>\n",
       "      <th>2</th>\n",
       "      <td>For the last quarter of 2010 , Componenta 's n...</td>\n",
       "      <td>positive</td>\n",
       "    </tr>\n",
       "    <tr>\n",
       "      <th>3</th>\n",
       "      <td>According to the Finnish-Russian Chamber of Co...</td>\n",
       "      <td>neutral</td>\n",
       "    </tr>\n",
       "    <tr>\n",
       "      <th>4</th>\n",
       "      <td>The Swedish buyout firm has sold its remaining...</td>\n",
       "      <td>neutral</td>\n",
       "    </tr>\n",
       "  </tbody>\n",
       "</table>\n",
       "</div>"
      ],
      "text/plain": [
       "                                            Sentence Sentiment\n",
       "0  The GeoSolutions technology will leverage Bene...  positive\n",
       "1  $ESI on lows, down $1.50 to $2.50 BK a real po...  negative\n",
       "2  For the last quarter of 2010 , Componenta 's n...  positive\n",
       "3  According to the Finnish-Russian Chamber of Co...   neutral\n",
       "4  The Swedish buyout firm has sold its remaining...   neutral"
      ]
     },
     "execution_count": 2,
     "metadata": {},
     "output_type": "execute_result"
    }
   ],
   "source": [
    "data = pd.read_csv(\"Finance_data.csv\")\n",
    "data.head()"
   ]
  },
  {
   "cell_type": "code",
   "execution_count": 3,
   "id": "1dac5eed-2b5f-4a84-806d-e1f50bbdbc51",
   "metadata": {},
   "outputs": [
    {
     "data": {
      "text/plain": [
       "neutral     3130\n",
       "positive    1852\n",
       "negative     860\n",
       "Name: Sentiment, dtype: int64"
      ]
     },
     "execution_count": 3,
     "metadata": {},
     "output_type": "execute_result"
    }
   ],
   "source": [
    "data.Sentiment.value_counts()"
   ]
  },
  {
   "cell_type": "code",
   "execution_count": 4,
   "id": "9c085f7d-9702-4167-a545-217552a2e95a",
   "metadata": {},
   "outputs": [],
   "source": [
    "data = data[data.Sentiment != \"neutral\"]"
   ]
  },
  {
   "cell_type": "code",
   "execution_count": 5,
   "id": "a5d4cf61-f5b1-4a60-8f24-14092a041b42",
   "metadata": {},
   "outputs": [],
   "source": [
    "num_of_categories = 2000\n",
    "\n",
    "shuffled = data.reindex(np.random.permutation(data.index))\n",
    "positive = shuffled[shuffled['Sentiment'] == 'positive'][:num_of_categories]\n",
    "negative = shuffled[shuffled['Sentiment'] == 'negative'][:num_of_categories]\n",
    "concated = pd.concat([positive, negative], ignore_index=True)\n",
    "\n",
    "#Shuffle the dataset\n",
    "concated = concated.reindex(np.random.permutation(concated.index))\n",
    "concated['Label'] = 0"
   ]
  },
  {
   "cell_type": "code",
   "execution_count": 6,
   "id": "f6a5d8d1-b16e-4552-920f-40262b669d8e",
   "metadata": {},
   "outputs": [
    {
     "name": "stdout",
     "output_type": "stream",
     "text": [
      "2211    1\n",
      "2307    1\n",
      "406     0\n",
      "96      0\n",
      "1517    0\n",
      "2267    1\n",
      "2032    1\n",
      "1416    0\n",
      "208     0\n",
      "1407    0\n",
      "Name: Label, dtype: int64\n"
     ]
    },
    {
     "data": {
      "text/plain": [
       "'\\n [1. 0. 0.] positive\\n [0. 1. 0.] negative\\n'"
      ]
     },
     "execution_count": 6,
     "metadata": {},
     "output_type": "execute_result"
    }
   ],
   "source": [
    "#One-hot encode the lab\n",
    "concated.loc[concated['Sentiment'] == 'positive', 'Label'] = 0\n",
    "concated.loc[concated['Sentiment'] == 'negative', 'Label'] = 1\n",
    "print(concated['Label'][:10])\n",
    "\n",
    "labels = to_categorical(concated['Label'], num_classes = 2)\n",
    "#print(labels[:10])\n",
    "\n",
    "if 'Sentiment' in concated.keys():\n",
    "    concated.drop(['Sentiment'], axis=1)\n",
    "'''\n",
    " [1. 0. 0.] positive\n",
    " [0. 1. 0.] negative\n",
    "'''"
   ]
  },
  {
   "cell_type": "code",
   "execution_count": 7,
   "id": "b49f9791-c859-4e31-bb2e-342ed2027900",
   "metadata": {},
   "outputs": [
    {
     "name": "stdout",
     "output_type": "stream",
     "text": [
      "Found 7382 unique tokens.\n"
     ]
    }
   ],
   "source": [
    "n_most_common_words = 10000\n",
    "max_len = 130\n",
    "\n",
    "tokenizer = Tokenizer(num_words = n_most_common_words, filters = '!\"#$%&()*+,-./:;<=>?@[\\]^_`{|}~', lower = True)\n",
    "tokenizer.fit_on_texts(concated['Sentence'].values)\n",
    "sequences = tokenizer.texts_to_sequences(concated['Sentence'].values)\n",
    "word_index = tokenizer.word_index\n",
    "\n",
    "print('Found %s unique tokens.' % len(word_index))\n",
    "\n",
    "X = pad_sequences(sequences, maxlen=max_len)"
   ]
  },
  {
   "cell_type": "code",
   "execution_count": 8,
   "id": "644e0252-d993-44e0-8659-41450e05b248",
   "metadata": {},
   "outputs": [],
   "source": [
    "X_train, X_test, y_train, y_test = train_test_split(X , labels, test_size=0.20, random_state=56, stratify = data[\"Sentiment\"])"
   ]
  },
  {
   "cell_type": "code",
   "execution_count": 9,
   "id": "1c014128-60e8-4a1e-bacd-2c32908af291",
   "metadata": {},
   "outputs": [],
   "source": [
    "#Hyperparameters\n",
    "epochs = 25\n",
    "emb_dim = 128\n",
    "batch_size = 32\n",
    "lstm_out = 128\n",
    "#Dropout Values\n",
    "#Activation Functions\n",
    "#Loss Function"
   ]
  },
  {
   "cell_type": "code",
   "execution_count": 10,
   "id": "5c55a7a1-a52e-4ae6-82ee-a9f163442b02",
   "metadata": {},
   "outputs": [
    {
     "name": "stdout",
     "output_type": "stream",
     "text": [
      "((2169, 130), (2169, 2), (543, 130), (543, 2))\n"
     ]
    }
   ],
   "source": [
    "print((X_train.shape, y_train.shape, X_test.shape, y_test.shape))"
   ]
  },
  {
   "cell_type": "code",
   "execution_count": 11,
   "id": "e09b2cf8-6372-40c4-a70d-a0b5a1d170e1",
   "metadata": {},
   "outputs": [
    {
     "name": "stderr",
     "output_type": "stream",
     "text": [
      "2023-04-09 00:38:30.282389: I tensorflow/core/platform/cpu_feature_guard.cc:193] This TensorFlow binary is optimized with oneAPI Deep Neural Network Library (oneDNN) to use the following CPU instructions in performance-critical operations:  SSE4.1 SSE4.2 AVX\n",
      "To enable them in other operations, rebuild TensorFlow with the appropriate compiler flags.\n"
     ]
    },
    {
     "name": "stdout",
     "output_type": "stream",
     "text": [
      "Model: \"sequential\"\n",
      "_________________________________________________________________\n",
      " Layer (type)                Output Shape              Param #   \n",
      "=================================================================\n",
      " embedding (Embedding)       (None, 130, 128)          1280000   \n",
      "                                                                 \n",
      " spatial_dropout1d (SpatialD  (None, 130, 128)         0         \n",
      " ropout1D)                                                       \n",
      "                                                                 \n",
      " lstm (LSTM)                 (None, 128)               131584    \n",
      "                                                                 \n",
      " dense (Dense)               (None, 2)                 258       \n",
      "                                                                 \n",
      "=================================================================\n",
      "Total params: 1,411,842\n",
      "Trainable params: 1,411,842\n",
      "Non-trainable params: 0\n",
      "_________________________________________________________________\n",
      "None\n"
     ]
    }
   ],
   "source": [
    "model = Sequential()\n",
    "model.add(Embedding(n_most_common_words, emb_dim, input_length=X.shape[1]))\n",
    "model.add(SpatialDropout1D(0.7))\n",
    "model.add(LSTM(lstm_out, dropout=0.7, recurrent_dropout=0.7))\n",
    "model.add(Dense(2, activation='softmax'))\n",
    "model.compile(optimizer='adam', loss='binary_crossentropy', metrics=['acc'])\n",
    "print(model.summary())"
   ]
  },
  {
   "cell_type": "code",
   "execution_count": 12,
   "id": "15f6f30c-e038-4bff-83d7-df6f7dd12605",
   "metadata": {},
   "outputs": [
    {
     "name": "stdout",
     "output_type": "stream",
     "text": [
      "Epoch 1/25\n",
      "55/55 [==============================] - 123s 2s/step - loss: 0.6390 - acc: 0.6732 - val_loss: 0.6066 - val_acc: 0.7005\n",
      "Epoch 2/25\n",
      "55/55 [==============================] - 117s 2s/step - loss: 0.6229 - acc: 0.6784 - val_loss: 0.6057 - val_acc: 0.7005\n",
      "Epoch 3/25\n",
      "55/55 [==============================] - 115s 2s/step - loss: 0.5774 - acc: 0.6980 - val_loss: 0.5541 - val_acc: 0.7304\n",
      "Epoch 4/25\n",
      "55/55 [==============================] - 116s 2s/step - loss: 0.4877 - acc: 0.7637 - val_loss: 0.4671 - val_acc: 0.7903\n",
      "Epoch 5/25\n",
      "55/55 [==============================] - 116s 2s/step - loss: 0.3791 - acc: 0.8265 - val_loss: 0.4126 - val_acc: 0.8065\n",
      "Epoch 6/25\n",
      "55/55 [==============================] - 116s 2s/step - loss: 0.3075 - acc: 0.8732 - val_loss: 0.3851 - val_acc: 0.8272\n",
      "Epoch 7/25\n",
      "55/55 [==============================] - 117s 2s/step - loss: 0.2785 - acc: 0.8830 - val_loss: 0.3825 - val_acc: 0.8456\n",
      "Epoch 8/25\n",
      "55/55 [==============================] - 116s 2s/step - loss: 0.2273 - acc: 0.9084 - val_loss: 0.3735 - val_acc: 0.8479\n",
      "Epoch 9/25\n",
      "55/55 [==============================] - 116s 2s/step - loss: 0.2066 - acc: 0.9205 - val_loss: 0.3907 - val_acc: 0.8479\n",
      "Epoch 10/25\n",
      "55/55 [==============================] - 117s 2s/step - loss: 0.1690 - acc: 0.9372 - val_loss: 0.3703 - val_acc: 0.8502\n",
      "Epoch 11/25\n",
      "55/55 [==============================] - 117s 2s/step - loss: 0.1437 - acc: 0.9458 - val_loss: 0.3721 - val_acc: 0.8479\n",
      "Epoch 12/25\n",
      "55/55 [==============================] - 117s 2s/step - loss: 0.1142 - acc: 0.9625 - val_loss: 0.3915 - val_acc: 0.8410\n",
      "Epoch 13/25\n",
      "55/55 [==============================] - 117s 2s/step - loss: 0.1127 - acc: 0.9591 - val_loss: 0.3749 - val_acc: 0.8571\n",
      "Epoch 14/25\n",
      "55/55 [==============================] - 117s 2s/step - loss: 0.0959 - acc: 0.9643 - val_loss: 0.3909 - val_acc: 0.8571\n",
      "Epoch 15/25\n",
      "55/55 [==============================] - 115s 2s/step - loss: 0.0900 - acc: 0.9660 - val_loss: 0.4686 - val_acc: 0.8594\n",
      "Epoch 16/25\n",
      "55/55 [==============================] - 115s 2s/step - loss: 0.0917 - acc: 0.9695 - val_loss: 0.4039 - val_acc: 0.8548\n",
      "Epoch 17/25\n",
      "55/55 [==============================] - 116s 2s/step - loss: 0.1038 - acc: 0.9654 - val_loss: 0.3889 - val_acc: 0.8571\n"
     ]
    }
   ],
   "source": [
    "history = model.fit(X_train, y_train, epochs=epochs, batch_size=batch_size, validation_split=0.2, callbacks=[EarlyStopping(monitor='val_loss',patience=7, min_delta=0.0001)])"
   ]
  },
  {
   "cell_type": "code",
   "execution_count": 13,
   "id": "b728a245-1a23-4660-be25-663f012c0512",
   "metadata": {},
   "outputs": [
    {
     "name": "stdout",
     "output_type": "stream",
     "text": [
      "17/17 [==============================] - 4s 244ms/step - loss: 0.4549 - acc: 0.8158\n",
      "Test set\n",
      "  Loss: 0.455\n",
      "  Accuracy: 0.816\n"
     ]
    }
   ],
   "source": [
    "accr = model.evaluate(X_test,y_test)\n",
    "print('Test set\\n  Loss: {:0.3f}\\n  Accuracy: {:0.3f}'.format(accr[0],accr[1]))"
   ]
  },
  {
   "cell_type": "code",
   "execution_count": 14,
   "id": "0df494f9-48e7-48db-99be-3c9ca30c8f19",
   "metadata": {},
   "outputs": [
    {
     "data": {
      "image/png": "[encoded data removed]",
      "text/plain": [
       "<Figure size 640x480 with 1 Axes>"
      ]
     },
     "metadata": {},
     "output_type": "display_data"
    },
    {
     "data": {
      "image/png": "[encoded data removed]",
      "text/plain": [
       "<Figure size 640x480 with 1 Axes>"
      ]
     },
     "metadata": {},
     "output_type": "display_data"
    }
   ],
   "source": [
    "import matplotlib.pyplot as plt\n",
    "\n",
    "acc = history.history['acc']\n",
    "val_acc = history.history['val_acc']\n",
    "loss = history.history['loss']\n",
    "val_loss = history.history['val_loss']\n",
    "\n",
    "epochs = range(1, len(acc) + 1)\n",
    "\n",
    "plt.plot(epochs, acc, 'bo', label='Training acc')\n",
    "plt.plot(epochs, val_acc, 'b', label='Validation acc')\n",
    "plt.title('Training and validation accuracy')\n",
    "plt.legend()\n",
    "\n",
    "plt.figure()\n",
    "\n",
    "plt.plot(epochs, loss, 'bo', label='Training loss')\n",
    "plt.plot(epochs, val_loss, 'b', label='Validation loss')\n",
    "plt.title('Training and validation loss')\n",
    "plt.legend()\n",
    "\n",
    "plt.show()"
   ]
  },
  {
   "cell_type": "code",
   "execution_count": 16,
   "id": "059eae8b-da52-4d27-80b3-6ab8bb73d5f2",
   "metadata": {},
   "outputs": [
    {
     "name": "stdout",
     "output_type": "stream",
     "text": [
      "1/1 [==============================] - 0s 455ms/step\n",
      "Actual output of model:  [[0.46964064 0.5303593 ]]\n",
      "Sentence 1 has a negative sentiment\n"
     ]
    }
   ],
   "source": [
    "test_sent = ['Bro, Ive been waiting, dawg!']\n",
    "\n",
    "#vectorizing the tweet by the pre-fitted tokenizer instance\n",
    "test_sent = tokenizer.texts_to_sequences(test_sent)\n",
    "\n",
    "#padding the tweet to have exactly the same shape as `embedding_2` input\n",
    "test_sent = pad_sequences(test_sent, maxlen = max_len, dtype = 'int32', value = 0)\n",
    "\n",
    "sentiment = model.predict(test_sent)\n",
    "\n",
    "print(\"Actual output of model: \", sentiment)\n",
    "\n",
    "if(np.argmax(sentiment) == 0):\n",
    "    print(\"Sentence 1 has a positive sentiment.\")\n",
    "elif (np.argmax(sentiment) == 1):\n",
    "    print(\"Sentence 1 has a negative sentiment\")"
   ]
  },
  {
   "cell_type": "code",
   "execution_count": 17,
   "id": "7c15c8d2-58fa-480e-a886-1ad227c70588",
   "metadata": {},
   "outputs": [
    {
     "name": "stdout",
     "output_type": "stream",
     "text": [
      "1/1 [==============================] - 0s 445ms/step\n",
      "Actual output of model:  [[9.872023e-06 9.999901e-01]]\n",
      "Sentence 2 has a negative sentiment\n"
     ]
    }
   ],
   "source": [
    "test_sent2 = ['The stocks are going down. Everything is low!']\n",
    "test_sent2 = tokenizer.texts_to_sequences(test_sent2)\n",
    "test_sent2 = pad_sequences(test_sent2, maxlen = 128, dtype = 'int32', value = 0)\n",
    "sentiment2 = model.predict(test_sent2)\n",
    "\n",
    "print(\"Actual output of model: \", sentiment2)\n",
    "\n",
    "if(np.argmax(sentiment2) == 0):\n",
    "    print(\"Sentence 2 has a positive sentiment.\")\n",
    "elif (np.argmax(sentiment2) == 1):\n",
    "    print(\"Sentence 2 has a negative sentiment\")"
   ]
  },
  {
   "cell_type": "code",
   "execution_count": 18,
   "id": "5d94252e-31f1-41f0-8989-c1903f9b6730",
   "metadata": {},
   "outputs": [
    {
     "name": "stdout",
     "output_type": "stream",
     "text": [
      "1/1 [==============================] - 0s 83ms/step\n",
      "Actual output of model:  [[0.99776256 0.00223742]]\n",
      "Sentence 3 has a positive sentiment.\n"
     ]
    }
   ],
   "source": [
    "test_sent3 = ['This is a positive sentence!']\n",
    "test_sent3 = tokenizer.texts_to_sequences(test_sent3)\n",
    "test_sent3 = pad_sequences(test_sent3, maxlen = 128, dtype = 'int32', value = 0)\n",
    "sentiment3 = model.predict(test_sent3)\n",
    "\n",
    "print(\"Actual output of model: \", sentiment3)\n",
    "\n",
    "if(np.argmax(sentiment3) == 0):\n",
    "    print(\"Sentence 3 has a positive sentiment.\")\n",
    "elif (np.argmax(sentiment3) == 1):\n",
    "    print(\"Sentence 3 has a negative sentiment\")"
   ]
  },
  {
   "cell_type": "code",
   "execution_count": 19,
   "id": "8edfaa01-52bb-4e70-8306-e0745761c34f",
   "metadata": {},
   "outputs": [
    {
     "data": {
      "text/html": [
       "<div>\n",
       "<style scoped>\n",
       "    .dataframe tbody tr th:only-of-type {\n",
       "        vertical-align: middle;\n",
       "    }\n",
       "\n",
       "    .dataframe tbody tr th {\n",
       "        vertical-align: top;\n",
       "    }\n",
       "\n",
       "    .dataframe thead th {\n",
       "        text-align: right;\n",
       "    }\n",
       "</style>\n",
       "<table border=\"1\" class=\"dataframe\">\n",
       "  <thead>\n",
       "    <tr style=\"text-align: right;\">\n",
       "      <th></th>\n",
       "      <th>Sentence</th>\n",
       "      <th>Sentiment</th>\n",
       "    </tr>\n",
       "  </thead>\n",
       "  <tbody>\n",
       "    <tr>\n",
       "      <th>0</th>\n",
       "      <td>When TSLA was at 1K share price :\\r\\n\\r\\n8B sa...</td>\n",
       "      <td>positive</td>\n",
       "    </tr>\n",
       "    <tr>\n",
       "      <th>1</th>\n",
       "      <td>$TSLA will go down because you own the stock… ...</td>\n",
       "      <td>positive</td>\n",
       "    </tr>\n",
       "    <tr>\n",
       "      <th>2</th>\n",
       "      <td>TSLA 🚀🚀🚀🚀🚀🚀🚀</td>\n",
       "      <td>neutral</td>\n",
       "    </tr>\n",
       "    <tr>\n",
       "      <th>3</th>\n",
       "      <td>&amp;gt;What I mean is when I started investing, t...</td>\n",
       "      <td>positive</td>\n",
       "    </tr>\n",
       "    <tr>\n",
       "      <th>4</th>\n",
       "      <td>I do trade in some ETFs.. DIV, SDIV ; USOI (it...</td>\n",
       "      <td>negative</td>\n",
       "    </tr>\n",
       "  </tbody>\n",
       "</table>\n",
       "</div>"
      ],
      "text/plain": [
       "                                            Sentence Sentiment\n",
       "0  When TSLA was at 1K share price :\\r\\n\\r\\n8B sa...  positive\n",
       "1  $TSLA will go down because you own the stock… ...  positive\n",
       "2                                       TSLA 🚀🚀🚀🚀🚀🚀🚀   neutral\n",
       "3  &gt;What I mean is when I started investing, t...  positive\n",
       "4  I do trade in some ETFs.. DIV, SDIV ; USOI (it...  negative"
      ]
     },
     "execution_count": 19,
     "metadata": {},
     "output_type": "execute_result"
    }
   ],
   "source": [
    "test = pd.read_csv('sampled2.csv')\n",
    "test.head()"
   ]
  },
  {
   "cell_type": "code",
   "execution_count": 20,
   "id": "d71beaf5-b372-4977-aec6-ad6aa24789e7",
   "metadata": {},
   "outputs": [],
   "source": [
    "test = test[test.Sentiment != \"neutral\"]\n",
    "\n",
    "sentence = test['Sentence'].tolist()\n",
    "sentiment = test['Sentiment'].tolist()"
   ]
  },
  {
   "cell_type": "code",
   "execution_count": 22,
   "id": "7fb4d09f-0e55-41b0-b97b-a72e2eee52c4",
   "metadata": {},
   "outputs": [
    {
     "name": "stdout",
     "output_type": "stream",
     "text": [
      "6/6 [==============================] - 1s 201ms/step\n",
      "0\n",
      "9/9 [==============================] - 2s 238ms/step\n",
      "1\n",
      "10/10 [==============================] - 2s 243ms/step\n",
      "2\n",
      "16/16 [==============================] - 4s 233ms/step\n",
      "3\n",
      "4/4 [==============================] - 1s 235ms/step\n",
      "4\n",
      "6/6 [==============================] - 1s 203ms/step\n",
      "5\n",
      "2/2 [==============================] - 0s 190ms/step\n",
      "6\n",
      "14/14 [==============================] - 3s 238ms/step\n",
      "7\n",
      "9/9 [==============================] - 2s 238ms/step\n",
      "8\n",
      "2/2 [==============================] - 0s 182ms/step\n",
      "9\n",
      "5/5 [==============================] - 1s 226ms/step\n",
      "10\n",
      "10/10 [==============================] - 2s 232ms/step\n",
      "11\n",
      "4/4 [==============================] - 1s 204ms/step\n",
      "12\n",
      "15/15 [==============================] - 4s 236ms/step\n",
      "13\n",
      "4/4 [==============================] - 1s 230ms/step\n",
      "14\n",
      "2/2 [==============================] - 0s 207ms/step\n",
      "15\n",
      "4/4 [==============================] - 1s 199ms/step\n",
      "16\n",
      "5/5 [==============================] - 1s 204ms/step\n",
      "17\n",
      "3/3 [==============================] - 1s 159ms/step\n",
      "18\n",
      "3/3 [==============================] - 1s 245ms/step\n",
      "19\n",
      "14/14 [==============================] - 3s 237ms/step\n",
      "20\n",
      "10/10 [==============================] - 2s 233ms/step\n",
      "21\n",
      "10/10 [==============================] - 2s 233ms/step\n",
      "22\n",
      "3/3 [==============================] - 1s 240ms/step\n",
      "23\n",
      "20/20 [==============================] - 5s 237ms/step\n",
      "24\n",
      "2/2 [==============================] - 0s 102ms/step\n",
      "25\n",
      "3/3 [==============================] - 1s 245ms/step\n",
      "26\n",
      "6/6 [==============================] - 1s 219ms/step\n",
      "27\n",
      "11/11 [==============================] - 2s 230ms/step\n",
      "28\n",
      "11/11 [==============================] - 3s 231ms/step\n",
      "29\n",
      "15/15 [==============================] - 4s 235ms/step\n",
      "30\n",
      "3/3 [==============================] - 1s 196ms/step\n",
      "31\n",
      "5/5 [==============================] - 1s 199ms/step\n",
      "32\n",
      "2/2 [==============================] - 0s 203ms/step\n",
      "33\n",
      "11/11 [==============================] - 3s 231ms/step\n",
      "34\n",
      "9/9 [==============================] - 2s 224ms/step\n",
      "35\n",
      "7/7 [==============================] - 2s 232ms/step\n",
      "36\n",
      "1/1 [==============================] - 0s 249ms/step\n",
      "37\n",
      "22/22 [==============================] - 5s 239ms/step\n",
      "38\n",
      "2/2 [==============================] - 0s 103ms/step\n",
      "39\n",
      "5/5 [==============================] - 1s 246ms/step\n",
      "40\n",
      "8/8 [==============================] - 2s 213ms/step\n",
      "41\n",
      "4/4 [==============================] - 1s 236ms/step\n",
      "42\n",
      "4/4 [==============================] - 1s 234ms/step\n",
      "43\n",
      "12/12 [==============================] - 3s 237ms/step\n",
      "44\n",
      "37/37 [==============================] - 9s 236ms/step\n",
      "45\n",
      "11/11 [==============================] - 3s 240ms/step\n",
      "46\n",
      "4/4 [==============================] - 1s 205ms/step\n",
      "47\n",
      "3/3 [==============================] - 1s 198ms/step\n",
      "48\n",
      "2/2 [==============================] - 0s 114ms/step\n",
      "49\n",
      "11/11 [==============================] - 3s 242ms/step\n",
      "50\n",
      "5/5 [==============================] - 1s 226ms/step\n",
      "51\n",
      "5/5 [==============================] - 1s 224ms/step\n",
      "52\n",
      "2/2 [==============================] - 0s 197ms/step\n",
      "53\n",
      "1/1 [==============================] - 0s 210ms/step\n",
      "54\n",
      "4/4 [==============================] - 1s 233ms/step\n",
      "55\n",
      "6/6 [==============================] - 1s 239ms/step\n",
      "56\n",
      "3/3 [==============================] - 1s 157ms/step\n",
      "57\n",
      "118/118 [==============================] - 28s 240ms/step\n",
      "58\n",
      "20/20 [==============================] - 5s 242ms/step\n",
      "59\n",
      "2/2 [==============================] - 0s 203ms/step\n",
      "60\n",
      "11/11 [==============================] - 2s 229ms/step\n",
      "61\n",
      "29/29 [==============================] - 7s 235ms/step\n",
      "62\n",
      "7/7 [==============================] - 2s 232ms/step\n",
      "63\n",
      "3/3 [==============================] - 1s 193ms/step\n",
      "64\n",
      "3/3 [==============================] - 1s 197ms/step\n",
      "65\n",
      "39/39 [==============================] - 9s 239ms/step\n",
      "66\n",
      "5/5 [==============================] - 1s 224ms/step\n",
      "67\n",
      "24/24 [==============================] - 6s 239ms/step\n",
      "68\n",
      "57/57 [==============================] - 14s 237ms/step\n",
      "69\n",
      "1/1 [==============================] - 0s 192ms/step\n",
      "70\n",
      "2/2 [==============================] - 0s 186ms/step\n",
      "71\n",
      "10/10 [==============================] - 2s 232ms/step\n",
      "72\n",
      "11/11 [==============================] - 3s 240ms/step\n",
      "73\n",
      "51/51 [==============================] - 12s 240ms/step\n",
      "74\n",
      "4/4 [==============================] - 1s 235ms/step\n",
      "75\n",
      "11/11 [==============================] - 2s 220ms/step\n",
      "76\n",
      "4/4 [==============================] - 1s 195ms/step\n",
      "77\n",
      "3/3 [==============================] - 1s 213ms/step\n",
      "78\n",
      "75/75 [==============================] - 18s 239ms/step\n",
      "79\n",
      "4/4 [==============================] - 1s 235ms/step\n",
      "80\n",
      "25/25 [==============================] - 6s 238ms/step\n",
      "81\n",
      "6/6 [==============================] - 1s 239ms/step\n",
      "82\n",
      "1/1 [==============================] - 0s 193ms/step\n",
      "83\n",
      "21/21 [==============================] - 5s 239ms/step\n",
      "84\n",
      "9/9 [==============================] - 2s 224ms/step\n",
      "85\n",
      "1/1 [==============================] - 0s 263ms/step\n",
      "86\n"
     ]
    }
   ],
   "source": [
    "i = 0\n",
    "correct = 0\n",
    "for i in range(87):\n",
    "    test = sentence[i]\n",
    "    test = tokenizer.texts_to_sequences(test)\n",
    "    test = pad_sequences(test, maxlen = 128, dtype = 'int32', value = 0)\n",
    "    sentiment_t = model.predict(test)[0]\n",
    "    \n",
    "    actual = sentiment[i]\n",
    "    \n",
    "    if(np.argmax(sentiment_t) == 0):\n",
    "        predicted = \"negative\"\n",
    "    elif (np.argmax(sentiment_t) == 1):\n",
    "        predicted = \"positive\"\n",
    "    \n",
    "    if(predicted == actual):\n",
    "        correct += 1\n",
    "    \n",
    "    print(i)"
   ]
  },
  {
   "cell_type": "code",
   "execution_count": 23,
   "id": "a2317096-0a5e-4f54-9781-effff73591eb",
   "metadata": {},
   "outputs": [
    {
     "name": "stdout",
     "output_type": "stream",
     "text": [
      "Number of correct predictions:  48\n",
      "Total predictions made:  87\n"
     ]
    }
   ],
   "source": [
    "print(\"Number of correct predictions: \", correct)\n",
    "print(\"Total predictions made: \", len(sentence))"
   ]
  }
 ],
 "metadata": {
  "kernelspec": {
   "display_name": "Python 3 (ipykernel)",
   "language": "python",
   "name": "python3"
  },
  "language_info": {
   "codemirror_mode": {
    "name": "ipython",
    "version": 3
   },
   "file_extension": ".py",
   "mimetype": "text/x-python",
   "name": "python",
   "nbconvert_exporter": "python",
   "pygments_lexer": "ipython3",
   "version": "3.10.6"
  }
 },
 "nbformat": 4,
 "nbformat_minor": 5
}
