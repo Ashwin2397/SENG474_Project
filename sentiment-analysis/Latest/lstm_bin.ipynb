{
 "cells": [
  {
   "cell_type": "code",
   "execution_count": 375,
   "id": "f20d4bdc-79e4-4f13-ba05-0f6d842ef564",
   "metadata": {},
   "outputs": [],
   "source": [
    "import numpy as np\n",
    "import pandas as pd\n",
    "import re\n",
    "from sklearn.feature_extraction.text import CountVectorizer\n",
    "from keras.preprocessing.text import Tokenizer\n",
    "from keras_preprocessing.sequence import pad_sequences\n",
    "from keras.models import Sequential\n",
    "from keras.layers import Dense, Embedding, LSTM, SpatialDropout1D\n",
    "from sklearn.model_selection import train_test_split\n",
    "from keras.utils.np_utils import to_categorical\n",
    "from keras.callbacks import EarlyStopping"
   ]
  },
  {
   "cell_type": "code",
   "execution_count": 376,
   "id": "1d1b9295-a5c0-4c95-8f0c-c14db5c5697f",
   "metadata": {},
   "outputs": [
    {
     "data": {
      "text/html": [
       "<div>\n",
       "<style scoped>\n",
       "    .dataframe tbody tr th:only-of-type {\n",
       "        vertical-align: middle;\n",
       "    }\n",
       "\n",
       "    .dataframe tbody tr th {\n",
       "        vertical-align: top;\n",
       "    }\n",
       "\n",
       "    .dataframe thead th {\n",
       "        text-align: right;\n",
       "    }\n",
       "</style>\n",
       "<table border=\"1\" class=\"dataframe\">\n",
       "  <thead>\n",
       "    <tr style=\"text-align: right;\">\n",
       "      <th></th>\n",
       "      <th>Sentence</th>\n",
       "      <th>Sentiment</th>\n",
       "    </tr>\n",
       "  </thead>\n",
       "  <tbody>\n",
       "    <tr>\n",
       "      <th>0</th>\n",
       "      <td>Fun fact: The mass buying of puts can create a...</td>\n",
       "      <td>positive</td>\n",
       "    </tr>\n",
       "    <tr>\n",
       "      <th>1</th>\n",
       "      <td>Well I guess those TSLA are not gonna print. I...</td>\n",
       "      <td>positive</td>\n",
       "    </tr>\n",
       "    <tr>\n",
       "      <th>2</th>\n",
       "      <td>In fact todays price drop is great for the ave...</td>\n",
       "      <td>positive</td>\n",
       "    </tr>\n",
       "    <tr>\n",
       "      <th>3</th>\n",
       "      <td>TSLA holding 700 like its defending Rome</td>\n",
       "      <td>positive</td>\n",
       "    </tr>\n",
       "    <tr>\n",
       "      <th>4</th>\n",
       "      <td>Outlook on TSLA is good imho but it’s the orig...</td>\n",
       "      <td>positive</td>\n",
       "    </tr>\n",
       "  </tbody>\n",
       "</table>\n",
       "</div>"
      ],
      "text/plain": [
       "                                            Sentence Sentiment\n",
       "0  Fun fact: The mass buying of puts can create a...  positive\n",
       "1  Well I guess those TSLA are not gonna print. I...  positive\n",
       "2  In fact todays price drop is great for the ave...  positive\n",
       "3           TSLA holding 700 like its defending Rome  positive\n",
       "4  Outlook on TSLA is good imho but it’s the orig...  positive"
      ]
     },
     "execution_count": 376,
     "metadata": {},
     "output_type": "execute_result"
    }
   ],
   "source": [
    "data = pd.read_csv(\"sampled_2.5k.csv\") #Unbalanced Finance dataset, Balanced Financed dataset, Balanced Larger/Reddit dataset - 1000 each, 2000 each\n",
    "data.head()"
   ]
  },
  {
   "cell_type": "code",
   "execution_count": 377,
   "id": "1dac5eed-2b5f-4a84-806d-e1f50bbdbc51",
   "metadata": {},
   "outputs": [
    {
     "data": {
      "text/plain": [
       "positive    2500\n",
       "negative    2500\n",
       "Name: Sentiment, dtype: int64"
      ]
     },
     "execution_count": 377,
     "metadata": {},
     "output_type": "execute_result"
    }
   ],
   "source": [
    "data.Sentiment.value_counts()"
   ]
  },
  {
   "cell_type": "code",
   "execution_count": 378,
   "id": "9c085f7d-9702-4167-a545-217552a2e95a",
   "metadata": {},
   "outputs": [],
   "source": [
    "#Assumption that the data has been preprocessed and the neutral labeled samples has been taken out\n",
    "#data = data[data.Sentiment != \"neutral\"]"
   ]
  },
  {
   "cell_type": "code",
   "execution_count": 379,
   "id": "429a6bb4-dc20-485c-a3b8-9162bff985f7",
   "metadata": {},
   "outputs": [],
   "source": [
    "pos_count, neg_count = data['Sentiment'].value_counts()"
   ]
  },
  {
   "cell_type": "code",
   "execution_count": 380,
   "id": "5dc1b03f-2774-474b-b234-50e46087e737",
   "metadata": {},
   "outputs": [],
   "source": [
    "#Assumption that the data is balanced/has been preprocessed\n",
    "#Undersampling data\n",
    "#pos_data = data[data['Sentiment'] == 'positive']\n",
    "#neg_data = data[data['Sentiment'] == 'negative']\n",
    "\n",
    "#pos_under = pos_data.sample(neg_count)\n",
    "#data = pd.concat([pos_under, neg_data], axis=0)\n",
    "#data.Sentiment.value_counts()"
   ]
  },
  {
   "cell_type": "code",
   "execution_count": 381,
   "id": "a5d4cf61-f5b1-4a60-8f24-14092a041b42",
   "metadata": {},
   "outputs": [],
   "source": [
    "num_of_categories = 45000\n",
    "\n",
    "shuffled = data.reindex(np.random.permutation(data.index))\n",
    "positive = shuffled[shuffled['Sentiment'] == 'positive'][:num_of_categories]\n",
    "negative = shuffled[shuffled['Sentiment'] == 'negative'][:num_of_categories]\n",
    "concated = pd.concat([positive, negative], ignore_index=True)\n",
    "\n",
    "#Shuffle the dataset\n",
    "concated = concated.reindex(np.random.permutation(concated.index))\n",
    "concated['Label'] = 0"
   ]
  },
  {
   "cell_type": "code",
   "execution_count": 382,
   "id": "f6a5d8d1-b16e-4552-920f-40262b669d8e",
   "metadata": {},
   "outputs": [
    {
     "name": "stdout",
     "output_type": "stream",
     "text": [
      "2175    0\n",
      "3014    1\n",
      "4449    1\n",
      "3635    1\n",
      "3213    1\n",
      "3418    1\n",
      "678     0\n",
      "2758    1\n",
      "3315    1\n",
      "2215    0\n",
      "Name: Label, dtype: int64\n"
     ]
    },
    {
     "data": {
      "text/plain": [
       "'\\n [1. 0.] positive\\n [0. 1.] negative\\n'"
      ]
     },
     "execution_count": 382,
     "metadata": {},
     "output_type": "execute_result"
    }
   ],
   "source": [
    "#One-hot encode the lab\n",
    "concated.loc[concated['Sentiment'] == 'positive', 'Label'] = 0\n",
    "concated.loc[concated['Sentiment'] == 'negative', 'Label'] = 1\n",
    "print(concated['Label'][:10])\n",
    "\n",
    "labels = to_categorical(concated['Label'], num_classes = 2)\n",
    "\n",
    "if 'Sentiment' in concated.keys():\n",
    "    concated.drop(['Sentiment'], axis=1)\n",
    "'''\n",
    " [1. 0.] positive\n",
    " [0. 1.] negative\n",
    "'''"
   ]
  },
  {
   "cell_type": "code",
   "execution_count": 383,
   "id": "b49f9791-c859-4e31-bb2e-342ed2027900",
   "metadata": {},
   "outputs": [
    {
     "name": "stdout",
     "output_type": "stream",
     "text": [
      "Found 32987 unique tokens.\n"
     ]
    }
   ],
   "source": [
    "n_most_common_words = 50000\n",
    "max_len = 128\n",
    "\n",
    "tokenizer = Tokenizer(num_words = n_most_common_words, filters = '!\"#$%&()*+,-./:;<=>?@[\\]^_`{|}~', lower = True)\n",
    "tokenizer.fit_on_texts(concated['Sentence'].values)\n",
    "sequences = tokenizer.texts_to_sequences(concated['Sentence'].values)\n",
    "word_index = tokenizer.word_index\n",
    "\n",
    "print('Found %s unique tokens.' % len(word_index))\n",
    "\n",
    "X = pad_sequences(sequences, maxlen = max_len)"
   ]
  },
  {
   "cell_type": "code",
   "execution_count": 384,
   "id": "644e0252-d993-44e0-8659-41450e05b248",
   "metadata": {},
   "outputs": [],
   "source": [
    "X_train, X_test, y_train, y_test = train_test_split(X , labels, test_size = 0.20, random_state = 42, stratify = data[\"Sentiment\"])"
   ]
  },
  {
   "cell_type": "code",
   "execution_count": 385,
   "id": "1c014128-60e8-4a1e-bacd-2c32908af291",
   "metadata": {},
   "outputs": [],
   "source": [
    "#Hyperparameters\n",
    "epochs = 25\n",
    "emb_dim = 128\n",
    "batch_size = 100\n",
    "lstm_out = 175 # 100, 128, 150\n",
    "\n",
    "#Dropout Values\n",
    "#Activation Function - sigmoid, softmax"
   ]
  },
  {
   "cell_type": "code",
   "execution_count": 386,
   "id": "5c55a7a1-a52e-4ae6-82ee-a9f163442b02",
   "metadata": {},
   "outputs": [
    {
     "name": "stdout",
     "output_type": "stream",
     "text": [
      "((4000, 128), (4000, 2), (1000, 128), (1000, 2))\n"
     ]
    }
   ],
   "source": [
    "print((X_train.shape, y_train.shape, X_test.shape, y_test.shape))"
   ]
  },
  {
   "cell_type": "code",
   "execution_count": 387,
   "id": "e09b2cf8-6372-40c4-a70d-a0b5a1d170e1",
   "metadata": {},
   "outputs": [
    {
     "name": "stdout",
     "output_type": "stream",
     "text": [
      "Model: \"sequential_18\"\n",
      "_________________________________________________________________\n",
      " Layer (type)                Output Shape              Param #   \n",
      "=================================================================\n",
      " embedding_18 (Embedding)    (None, 128, 128)          6400000   \n",
      "                                                                 \n",
      " spatial_dropout1d_18 (Spati  (None, 128, 128)         0         \n",
      " alDropout1D)                                                    \n",
      "                                                                 \n",
      " lstm_18 (LSTM)              (None, 175)               212800    \n",
      "                                                                 \n",
      " dense_18 (Dense)            (None, 2)                 352       \n",
      "                                                                 \n",
      "=================================================================\n",
      "Total params: 6,613,152\n",
      "Trainable params: 6,613,152\n",
      "Non-trainable params: 0\n",
      "_________________________________________________________________\n",
      "None\n"
     ]
    }
   ],
   "source": [
    "model = Sequential()\n",
    "model.add(Embedding(n_most_common_words, emb_dim, input_length=X.shape[1]))\n",
    "model.add(SpatialDropout1D(0.7))\n",
    "model.add(LSTM(lstm_out, dropout=0.7, recurrent_dropout=0.7))\n",
    "model.add(Dense(2, activation='sigmoid')) #softmax\n",
    "model.compile(optimizer = 'adam', loss = 'categorical_crossentropy', metrics = ['acc'])\n",
    "print(model.summary())"
   ]
  },
  {
   "cell_type": "code",
   "execution_count": 388,
   "id": "15f6f30c-e038-4bff-83d7-df6f7dd12605",
   "metadata": {},
   "outputs": [
    {
     "name": "stdout",
     "output_type": "stream",
     "text": [
      "Epoch 1/25\n",
      "32/32 [==============================] - 23s 647ms/step - loss: 0.6639 - acc: 0.5809 - val_loss: 0.6534 - val_acc: 0.6012\n",
      "Epoch 2/25\n",
      "32/32 [==============================] - 20s 624ms/step - loss: 0.6226 - acc: 0.6469 - val_loss: 0.6291 - val_acc: 0.6375\n",
      "Epoch 3/25\n",
      "32/32 [==============================] - 20s 626ms/step - loss: 0.5875 - acc: 0.6862 - val_loss: 0.6189 - val_acc: 0.6675\n",
      "Epoch 4/25\n",
      "32/32 [==============================] - 21s 641ms/step - loss: 0.5609 - acc: 0.7097 - val_loss: 0.6231 - val_acc: 0.6725\n",
      "Epoch 5/25\n",
      "32/32 [==============================] - 21s 641ms/step - loss: 0.5067 - acc: 0.7581 - val_loss: 0.6034 - val_acc: 0.7025\n",
      "Epoch 6/25\n",
      "32/32 [==============================] - 21s 643ms/step - loss: 0.4459 - acc: 0.7997 - val_loss: 0.5945 - val_acc: 0.7138\n",
      "Epoch 7/25\n",
      "32/32 [==============================] - 21s 659ms/step - loss: 0.4074 - acc: 0.8247 - val_loss: 0.6211 - val_acc: 0.7163\n",
      "Epoch 8/25\n",
      "32/32 [==============================] - 21s 661ms/step - loss: 0.3677 - acc: 0.8459 - val_loss: 0.5678 - val_acc: 0.7225\n",
      "Epoch 9/25\n",
      "32/32 [==============================] - 20s 631ms/step - loss: 0.3123 - acc: 0.8722 - val_loss: 0.5762 - val_acc: 0.7225\n",
      "Epoch 10/25\n",
      "32/32 [==============================] - 21s 665ms/step - loss: 0.3067 - acc: 0.8741 - val_loss: 0.5546 - val_acc: 0.7450\n",
      "Epoch 11/25\n",
      "32/32 [==============================] - 20s 640ms/step - loss: 0.2666 - acc: 0.8884 - val_loss: 0.5750 - val_acc: 0.7163\n",
      "Epoch 12/25\n",
      "32/32 [==============================] - 20s 630ms/step - loss: 0.2185 - acc: 0.9097 - val_loss: 0.6230 - val_acc: 0.7412\n",
      "Epoch 13/25\n",
      "32/32 [==============================] - 20s 635ms/step - loss: 0.2260 - acc: 0.9153 - val_loss: 0.6507 - val_acc: 0.7437\n",
      "Epoch 14/25\n",
      "32/32 [==============================] - 20s 628ms/step - loss: 0.1933 - acc: 0.9231 - val_loss: 0.6551 - val_acc: 0.7337\n",
      "Epoch 15/25\n",
      "32/32 [==============================] - 21s 660ms/step - loss: 0.1851 - acc: 0.9303 - val_loss: 0.7460 - val_acc: 0.7325\n",
      "Epoch 16/25\n",
      "32/32 [==============================] - 21s 650ms/step - loss: 0.1647 - acc: 0.9325 - val_loss: 0.7045 - val_acc: 0.7437\n",
      "Epoch 17/25\n",
      "32/32 [==============================] - 22s 686ms/step - loss: 0.1593 - acc: 0.9388 - val_loss: 0.6921 - val_acc: 0.7212\n",
      "Epoch 18/25\n",
      "32/32 [==============================] - 21s 670ms/step - loss: 0.1497 - acc: 0.9425 - val_loss: 0.7367 - val_acc: 0.7475\n",
      "Epoch 19/25\n",
      "32/32 [==============================] - 21s 653ms/step - loss: 0.1423 - acc: 0.9484 - val_loss: 0.6886 - val_acc: 0.7175\n",
      "Epoch 20/25\n",
      "32/32 [==============================] - 21s 653ms/step - loss: 0.1400 - acc: 0.9478 - val_loss: 0.7175 - val_acc: 0.7525\n",
      "Epoch 21/25\n",
      "32/32 [==============================] - 21s 670ms/step - loss: 0.1231 - acc: 0.9528 - val_loss: 0.7567 - val_acc: 0.7487\n",
      "Epoch 22/25\n",
      "32/32 [==============================] - 21s 644ms/step - loss: 0.1081 - acc: 0.9569 - val_loss: 0.8006 - val_acc: 0.7513\n",
      "Epoch 23/25\n",
      "32/32 [==============================] - 21s 654ms/step - loss: 0.0998 - acc: 0.9609 - val_loss: 0.7895 - val_acc: 0.7325\n",
      "Epoch 24/25\n",
      "32/32 [==============================] - 21s 654ms/step - loss: 0.0936 - acc: 0.9663 - val_loss: 0.9499 - val_acc: 0.7425\n",
      "Epoch 25/25\n",
      "32/32 [==============================] - 21s 653ms/step - loss: 0.0999 - acc: 0.9613 - val_loss: 0.8066 - val_acc: 0.7250\n"
     ]
    }
   ],
   "source": [
    "#history = model.fit(X_train, y_train, epochs=epochs, batch_size=batch_size, validation_split=0.2, callbacks=[EarlyStopping(monitor='val_loss',patience=7, min_delta=0.0001)])\n",
    "history = model.fit(X_train, y_train, epochs = epochs, batch_size = batch_size, validation_split=0.2)\n",
    "#history = model.fit(X_train, y_train, epochs = epochs, batch_size = batch_size)"
   ]
  },
  {
   "cell_type": "code",
   "execution_count": 389,
   "id": "b728a245-1a23-4660-be25-663f012c0512",
   "metadata": {},
   "outputs": [
    {
     "name": "stdout",
     "output_type": "stream",
     "text": [
      "32/32 [==============================] - 2s 51ms/step - loss: 0.7801 - acc: 0.7320\n",
      "Test set\n",
      "  Loss: 0.780\n",
      "  Accuracy: 0.732\n"
     ]
    }
   ],
   "source": [
    "accr = model.evaluate(X_test,y_test)\n",
    "print('Test set\\n  Loss: {:0.3f}\\n  Accuracy: {:0.3f}'.format(accr[0],accr[1]))"
   ]
  },
  {
   "cell_type": "code",
   "execution_count": 390,
   "id": "0df494f9-48e7-48db-99be-3c9ca30c8f19",
   "metadata": {},
   "outputs": [
    {
     "data": {
      "image/png": "[encoded data removed]",
      "text/plain": [
       "<Figure size 640x480 with 1 Axes>"
      ]
     },
     "metadata": {},
     "output_type": "display_data"
    },
    {
     "data": {
      "image/png": "[encoded data removed]",
      "text/plain": [
       "<Figure size 640x480 with 1 Axes>"
      ]
     },
     "metadata": {},
     "output_type": "display_data"
    }
   ],
   "source": [
    "import matplotlib.pyplot as plt\n",
    "\n",
    "acc = history.history['acc']\n",
    "val_acc = history.history['val_acc']\n",
    "loss = history.history['loss']\n",
    "val_loss = history.history['val_loss']\n",
    "\n",
    "epochs = range(1, len(acc) + 1)\n",
    "\n",
    "plt.plot(epochs, acc, 'bo', label='Training acc')\n",
    "plt.plot(epochs, val_acc, 'b', label='Validation acc')\n",
    "plt.title('Training and validation accuracy')\n",
    "plt.title('Training accuracy')\n",
    "plt.legend()\n",
    "\n",
    "plt.figure()\n",
    "\n",
    "plt.plot(epochs, loss, 'bo', label='Training loss')\n",
    "plt.plot(epochs, val_loss, 'b', label='Validation loss')\n",
    "plt.title('Training and validation loss')\n",
    "plt.title('Training loss')\n",
    "plt.legend()\n",
    "\n",
    "plt.show()"
   ]
  },
  {
   "cell_type": "code",
   "execution_count": 391,
   "id": "059eae8b-da52-4d27-80b3-6ab8bb73d5f2",
   "metadata": {},
   "outputs": [
    {
     "name": "stdout",
     "output_type": "stream",
     "text": [
      "1/1 [==============================] - 0s 274ms/step\n",
      "Actual output of model:  [[0.09797909 0.9108989 ]]\n",
      "Sentence 1 has a negative sentiment\n"
     ]
    }
   ],
   "source": [
    "test_sent = ['Bro, I have been waiting for you for so long!']\n",
    "\n",
    "#vectorizing the tweet by the pre-fitted tokenizer instance\n",
    "test_sent = tokenizer.texts_to_sequences(test_sent)\n",
    "\n",
    "#padding the tweet to have exactly the same shape as `embedding_2` input\n",
    "test_sent = pad_sequences(test_sent, maxlen = max_len, dtype = 'int32', value = 0)\n",
    "\n",
    "sentiment = model.predict(test_sent)\n",
    "\n",
    "print(\"Actual output of model: \", sentiment)\n",
    "\n",
    "if(np.argmax(sentiment) == 0):\n",
    "    print(\"Sentence 1 has a positive sentiment.\")\n",
    "elif (np.argmax(sentiment) == 1):\n",
    "    print(\"Sentence 1 has a negative sentiment\")"
   ]
  },
  {
   "cell_type": "code",
   "execution_count": 392,
   "id": "7c15c8d2-58fa-480e-a886-1ad227c70588",
   "metadata": {},
   "outputs": [
    {
     "name": "stdout",
     "output_type": "stream",
     "text": [
      "1/1 [==============================] - 0s 41ms/step\n",
      "Actual output of model:  [[0.0434215 0.9615644]]\n",
      "Sentence 2 has a negative sentiment\n"
     ]
    }
   ],
   "source": [
    "test_sent2 = ['The stocks are going down. Everything is low!']\n",
    "test_sent2 = tokenizer.texts_to_sequences(test_sent2)\n",
    "test_sent2 = pad_sequences(test_sent2, maxlen = 128, dtype = 'int32', value = 0)\n",
    "sentiment2 = model.predict(test_sent2)\n",
    "\n",
    "print(\"Actual output of model: \", sentiment2)\n",
    "\n",
    "if(np.argmax(sentiment2) == 0):\n",
    "    print(\"Sentence 2 has a positive sentiment.\")\n",
    "elif (np.argmax(sentiment2) == 1):\n",
    "    print(\"Sentence 2 has a negative sentiment\")"
   ]
  },
  {
   "cell_type": "code",
   "execution_count": 393,
   "id": "8edfaa01-52bb-4e70-8306-e0745761c34f",
   "metadata": {},
   "outputs": [
    {
     "data": {
      "text/html": [
       "<div>\n",
       "<style scoped>\n",
       "    .dataframe tbody tr th:only-of-type {\n",
       "        vertical-align: middle;\n",
       "    }\n",
       "\n",
       "    .dataframe tbody tr th {\n",
       "        vertical-align: top;\n",
       "    }\n",
       "\n",
       "    .dataframe thead th {\n",
       "        text-align: right;\n",
       "    }\n",
       "</style>\n",
       "<table border=\"1\" class=\"dataframe\">\n",
       "  <thead>\n",
       "    <tr style=\"text-align: right;\">\n",
       "      <th></th>\n",
       "      <th>Sentence</th>\n",
       "      <th>Sentiment</th>\n",
       "    </tr>\n",
       "  </thead>\n",
       "  <tbody>\n",
       "    <tr>\n",
       "      <th>0</th>\n",
       "      <td>The TSLA dump will be legendary. I'm definitel...</td>\n",
       "      <td>positive</td>\n",
       "    </tr>\n",
       "    <tr>\n",
       "      <th>1</th>\n",
       "      <td>Dumped my 4/29 TSLA puts but kept everything f...</td>\n",
       "      <td>positive</td>\n",
       "    </tr>\n",
       "    <tr>\n",
       "      <th>2</th>\n",
       "      <td>OP that 2021 scenario is highly skewed\\n\\nFirs...</td>\n",
       "      <td>positive</td>\n",
       "    </tr>\n",
       "    <tr>\n",
       "      <th>3</th>\n",
       "      <td>I suppose you could technically think of it th...</td>\n",
       "      <td>positive</td>\n",
       "    </tr>\n",
       "    <tr>\n",
       "      <th>4</th>\n",
       "      <td>All today showed is market is irrational.\\n\\nT...</td>\n",
       "      <td>positive</td>\n",
       "    </tr>\n",
       "  </tbody>\n",
       "</table>\n",
       "</div>"
      ],
      "text/plain": [
       "                                            Sentence Sentiment\n",
       "0  The TSLA dump will be legendary. I'm definitel...  positive\n",
       "1  Dumped my 4/29 TSLA puts but kept everything f...  positive\n",
       "2  OP that 2021 scenario is highly skewed\\n\\nFirs...  positive\n",
       "3  I suppose you could technically think of it th...  positive\n",
       "4  All today showed is market is irrational.\\n\\nT...  positive"
      ]
     },
     "execution_count": 393,
     "metadata": {},
     "output_type": "execute_result"
    }
   ],
   "source": [
    "test = pd.read_csv('test_50.csv')\n",
    "test.head()"
   ]
  },
  {
   "cell_type": "code",
   "execution_count": 397,
   "id": "d71beaf5-b372-4977-aec6-ad6aa24789e7",
   "metadata": {},
   "outputs": [],
   "source": [
    "#test = test[test.Sentiment != \"neutral\"] # Data is preprocessed\n",
    "\n",
    "test = test.sample(frac = 1)\n",
    "\n",
    "sentence = test['Sentence'].tolist()\n",
    "sentiment = test['Sentiment'].tolist()\n",
    "\n",
    "test_size = len(sentence)"
   ]
  },
  {
   "cell_type": "code",
   "execution_count": 398,
   "id": "7fb4d09f-0e55-41b0-b97b-a72e2eee52c4",
   "metadata": {},
   "outputs": [
    {
     "name": "stdout",
     "output_type": "stream",
     "text": [
      "1/1 [==============================] - 0s 60ms/step\n",
      "0\n",
      "16/16 [==============================] - 1s 39ms/step\n",
      "1\n",
      "18/18 [==============================] - 1s 40ms/step\n",
      "2\n",
      "1/1 [==============================] - 0s 50ms/step\n",
      "3\n",
      "4/4 [==============================] - 0s 40ms/step\n",
      "4\n",
      "2/2 [==============================] - 0s 31ms/step\n",
      "5\n",
      "3/3 [==============================] - 0s 40ms/step\n",
      "6\n",
      "3/3 [==============================] - 0s 34ms/step\n",
      "7\n",
      "2/2 [==============================] - 0s 30ms/step\n",
      "8\n",
      "2/2 [==============================] - 0s 36ms/step\n",
      "9\n",
      "3/3 [==============================] - 0s 45ms/step\n",
      "10\n",
      "4/4 [==============================] - 0s 40ms/step\n",
      "11\n",
      "3/3 [==============================] - 0s 34ms/step\n",
      "12\n",
      "296/296 [==============================] - 12s 41ms/step\n",
      "13\n",
      "2/2 [==============================] - 0s 31ms/step\n",
      "14\n",
      "129/129 [==============================] - 5s 40ms/step\n",
      "15\n",
      "310/310 [==============================] - 12s 39ms/step\n",
      "16\n",
      "14/14 [==============================] - 1s 38ms/step\n",
      "17\n",
      "5/5 [==============================] - 0s 37ms/step\n",
      "18\n",
      "7/7 [==============================] - 0s 37ms/step\n",
      "19\n",
      "3/3 [==============================] - 0s 33ms/step\n",
      "20\n",
      "6/6 [==============================] - 0s 36ms/step\n",
      "21\n",
      "26/26 [==============================] - 1s 38ms/step\n",
      "22\n",
      "24/24 [==============================] - 1s 39ms/step\n",
      "23\n",
      "18/18 [==============================] - 1s 38ms/step\n",
      "24\n",
      "1/1 [==============================] - 0s 62ms/step\n",
      "25\n",
      "12/12 [==============================] - 0s 38ms/step\n",
      "26\n",
      "2/2 [==============================] - 0s 26ms/step\n",
      "27\n",
      "1/1 [==============================] - 0s 59ms/step\n",
      "28\n",
      "25/25 [==============================] - 1s 39ms/step\n",
      "29\n",
      "3/3 [==============================] - 0s 34ms/step\n",
      "30\n",
      "1/1 [==============================] - 0s 49ms/step\n",
      "31\n",
      "36/36 [==============================] - 1s 39ms/step\n",
      "32\n",
      "40/40 [==============================] - 2s 40ms/step\n",
      "33\n",
      "2/2 [==============================] - 0s 25ms/step\n",
      "34\n",
      "7/7 [==============================] - 0s 37ms/step\n",
      "35\n",
      "4/4 [==============================] - 0s 34ms/step\n",
      "36\n",
      "19/19 [==============================] - 1s 39ms/step\n",
      "37\n",
      "225/225 [==============================] - 9s 38ms/step\n",
      "38\n",
      "12/12 [==============================] - 0s 37ms/step\n",
      "39\n",
      "310/310 [==============================] - 12s 39ms/step\n",
      "40\n",
      "2/2 [==============================] - 0s 26ms/step\n",
      "41\n",
      "7/7 [==============================] - 0s 37ms/step\n",
      "42\n",
      "4/4 [==============================] - 0s 36ms/step\n",
      "43\n",
      "2/2 [==============================] - 0s 26ms/step\n",
      "44\n",
      "9/9 [==============================] - 0s 38ms/step\n",
      "45\n",
      "1/1 [==============================] - 0s 59ms/step\n",
      "46\n",
      "3/3 [==============================] - 0s 35ms/step\n",
      "47\n",
      "49/49 [==============================] - 2s 39ms/step\n",
      "48\n",
      "307/307 [==============================] - 12s 39ms/step\n",
      "49\n"
     ]
    }
   ],
   "source": [
    "i = 0\n",
    "correct = 0\n",
    "ar_actual = []\n",
    "ar_predicted = []\n",
    "\n",
    "for i in range(test_size):\n",
    "    test = sentence[i]\n",
    "    test = tokenizer.texts_to_sequences(test)\n",
    "    test = pad_sequences(test, maxlen = max_len, dtype = 'int32', value = 0)\n",
    "    sentiment_t = model.predict(test)[0]\n",
    "    \n",
    "    actual = sentiment[i]\n",
    "    \n",
    "    if(np.argmax(sentiment_t) == 0):\n",
    "        predicted = \"negative\"\n",
    "    elif (np.argmax(sentiment_t) == 1):\n",
    "        predicted = \"positive\"\n",
    "    \n",
    "    ar_actual.append(actual)\n",
    "    ar_predicted.append(actual)\n",
    "    \n",
    "    if(predicted == actual):\n",
    "        correct += 1\n",
    "    \n",
    "    print(i)"
   ]
  },
  {
   "cell_type": "code",
   "execution_count": null,
   "id": "a2317096-0a5e-4f54-9781-effff73591eb",
   "metadata": {},
   "outputs": [
    {
     "name": "stdout",
     "output_type": "stream",
     "text": [
      "Number of correct predictions:  25\n",
      "Total predictions made:  50\n"
     ]
    }
   ],
   "source": [
    "print(\"Number of correct predictions: \", correct)\n",
    "print(\"Total predictions made: \", len(sentence))"
   ]
  }
 ],
 "metadata": {
  "kernelspec": {
   "display_name": "Python 3 (ipykernel)",
   "language": "python",
   "name": "python3"
  },
  "language_info": {
   "codemirror_mode": {
    "name": "ipython",
    "version": 3
   },
   "file_extension": ".py",
   "mimetype": "text/x-python",
   "name": "python",
   "nbconvert_exporter": "python",
   "pygments_lexer": "ipython3",
   "version": "3.10.11"
  }
 },
 "nbformat": 4,
 "nbformat_minor": 5
}
