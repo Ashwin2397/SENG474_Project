{
 "cells": [
  {
   "attachments": {},
   "cell_type": "markdown",
   "metadata": {},
   "source": [
    "# Train sentiment analysis model"
   ]
  },
  {
   "cell_type": "code",
   "execution_count": 1,
   "metadata": {},
   "outputs": [
    {
     "name": "stderr",
     "output_type": "stream",
     "text": [
      "/usr/local/lib/python3.10/site-packages/sklearn/feature_extraction/text.py:528: UserWarning: The parameter 'token_pattern' will not be used since 'tokenizer' is not None'\n",
      "  warnings.warn(\n"
     ]
    }
   ],
   "source": [
    "import pandas as pd\n",
    "from sentiment_analysis_model import SentimentAnalysisModel\n",
    "    \n",
    "data = pd.read_csv('./data/Finance_data.csv')\n",
    "sentiment_analysis_model = SentimentAnalysisModel(data).preprocess_data().train_model()"
   ]
  },
  {
   "attachments": {},
   "cell_type": "markdown",
   "metadata": {},
   "source": [
    "# Preprocess tesla dataframe "
   ]
  },
  {
   "cell_type": "code",
   "execution_count": 2,
   "metadata": {},
   "outputs": [
    {
     "name": "stderr",
     "output_type": "stream",
     "text": [
      "/var/folders/xr/6zg9zg9d2jx2957vpypkzfqm0000gn/T/ipykernel_87717/1338755879.py:12: SettingWithCopyWarning: \n",
      "A value is trying to be set on a copy of a slice from a DataFrame.\n",
      "Try using .loc[row_indexer,col_indexer] = value instead\n",
      "\n",
      "See the caveats in the documentation: https://pandas.pydata.org/pandas-docs/stable/user_guide/indexing.html#returning-a-view-versus-a-copy\n",
      "  tesla['created_at_est'] = tesla['created_at'].apply(ast_to_est)\n"
     ]
    }
   ],
   "source": [
    "from utils import ast_to_est\n",
    "from datetime import datetime as dt\n",
    "tesla_data2 = pd.read_csv('./data/2021.csv', sep=',')\n",
    "tesla_data = pd.read_csv('./data/2022.csv', sep=',')\n",
    "# Concatenate two dataframes\n",
    "tesla_data = pd.concat([tesla_data, tesla_data2])\n",
    "\n",
    "# For each line in data, only select lines that contain the word \"tesla\"\n",
    "tesla = tesla_data[tesla_data['tweet'].str.contains('[t|T]esla')]\n",
    "\n",
    "# Create a new column that contains the date and time in EST\n",
    "tesla['created_at_est'] = tesla['created_at'].apply(ast_to_est) \n",
    "\n",
    "# Drop all rows before 2021-04-15 (which is ~730 days before today)\n",
    "# TODO: Make this dynamic instead of relying on a hardcoded date\n",
    "tesla = tesla[tesla['created_at_est'] >= '2021-04-15 00:00:00']\n"
   ]
  },
  {
   "attachments": {},
   "cell_type": "markdown",
   "metadata": {},
   "source": [
    "# Create sentiment score labels for tesla dataframe"
   ]
  },
  {
   "cell_type": "code",
   "execution_count": 3,
   "metadata": {},
   "outputs": [],
   "source": [
    "# Using the tesla dataframe, create a new dataframe that contains the polarity score for each example\n",
    "# Create a new column that contains the polarity score for each example\n",
    "# Positive shall be 1 and negative shall be 0\n",
    "tesla['polarity'] = tesla['tweet'].apply(lambda x: 1 if sentiment_analysis_model.predict(x)[0] == 'positive' else 0)\n",
    "\n",
    "\n",
    "# Drop all columns except for the date and polarity\n",
    "tesla = tesla[['created_at_est', 'polarity', 'tweet']]\n",
    "tesla.to_csv('./tesla.csv', index=False)\n"
   ]
  },
  {
   "attachments": {},
   "cell_type": "markdown",
   "metadata": {},
   "source": [
    "# Create price prediction dataset\n"
   ]
  },
  {
   "cell_type": "code",
   "execution_count": 4,
   "metadata": {},
   "outputs": [],
   "source": [
    "from get_price_data import PriceDataRetrieverAndPreprocessor\n",
    "import datetime as dt\n",
    "\n",
    "# Get the minimum and maximum dates\n",
    "start = tesla['created_at_est'].min()\n",
    "end = tesla['created_at_est'].max()    \n",
    "\n",
    "interval = '60m'\n",
    "ticker = 'TSLA'\n",
    "\n",
    "df = PriceDataRetrieverAndPreprocessor(ticker, start, end, polarity_score_df=tesla, interval=interval).retrieve().preprocess()\n",
    "# print(df)\n",
    "df.to_csv('./df.csv', index=False)\n",
    "label = 'Price polarity over interval'\n",
    "y = df[label].values\n",
    "X = df.drop([label],axis=1).values\n"
   ]
  },
  {
   "cell_type": "code",
   "execution_count": 5,
   "metadata": {},
   "outputs": [
    {
     "name": "stdout",
     "output_type": "stream",
     "text": [
      "Mean Cross Validation Score: 0.7\n",
      "Accuracy: 0.41935483870967744\n",
      "Precision: 0.35714285714285715\n",
      "Recall: 0.35714285714285715\n",
      "F1: 0.35714285714285715\n",
      "Confusion Matrix:\n",
      "Classification Report:\n",
      "              precision    recall  f1-score   support\n",
      "\n",
      "           0       0.47      0.47      0.47        17\n",
      "           1       0.36      0.36      0.36        14\n",
      "\n",
      "    accuracy                           0.42        31\n",
      "   macro avg       0.41      0.41      0.41        31\n",
      "weighted avg       0.42      0.42      0.42        31\n",
      "\n"
     ]
    },
    {
     "data": {
      "image/png": "[encoded data removed]",
      "text/plain": [
       "<Figure size 640x480 with 2 Axes>"
      ]
     },
     "metadata": {},
     "output_type": "display_data"
    }
   ],
   "source": [
    "from sklearn.tree import DecisionTreeClassifier\n",
    "import numpy as np\n",
    "import seaborn as sns\n",
    "from sklearn.model_selection import LearningCurveDisplay, ShuffleSplit\n",
    "from sklearn.model_selection import train_test_split\n",
    "\n",
    "from sklearn.metrics import f1_score, accuracy_score, precision_score, recall_score, classification_report, confusion_matrix\n",
    "from sklearn.model_selection import cross_val_score\n",
    "\n",
    "X_train, X_test, y_train, y_test = train_test_split(X, y, test_size=0.33, random_state=0, stratify=y)\n",
    "model = DecisionTreeClassifier(random_state=0, criterion=\"gini\")\n",
    "scores = cross_val_score(model, X_train, y_train, cv=5)\n",
    "print(\"Mean Cross Validation Score:\", np.mean(scores))\n",
    "\n",
    "model = DecisionTreeClassifier(random_state=0, criterion=\"gini\")\n",
    "model.fit(X_train, y_train)\n",
    "\n",
    "y_pred = model.predict(X_test)\n",
    "\n",
    "print(\"Accuracy:\", accuracy_score(y_test, y_pred))\n",
    "print(\"Precision:\", precision_score(y_test, y_pred))\n",
    "print(\"Recall:\", recall_score(y_test, y_pred))\n",
    "print(\"F1:\", f1_score(y_test, y_pred))\n",
    "print(\"Confusion Matrix:\")\n",
    "matrix = confusion_matrix(y_test, y_pred)\n",
    "sns.heatmap(matrix,annot = True,fmt='g',cmap=\"crest\")\n",
    "\n",
    "print(\"Classification Report:\")\n",
    "print(classification_report(y_test, y_pred))"
   ]
  }
 ],
 "metadata": {
  "kernelspec": {
   "display_name": "Python 3",
   "language": "python",
   "name": "python3"
  },
  "language_info": {
   "codemirror_mode": {
    "name": "ipython",
    "version": 3
   },
   "file_extension": ".py",
   "mimetype": "text/x-python",
   "name": "python",
   "nbconvert_exporter": "python",
   "pygments_lexer": "ipython3",
   "version": "3.10.9"
  },
  "orig_nbformat": 4,
  "vscode": {
   "interpreter": {
    "hash": "aee8b7b246df8f9039afb4144a1f6fd8d2ca17a180786b69acc140d282b71a49"
   }
  }
 },
 "nbformat": 4,
 "nbformat_minor": 2
}
