{
 "cells": [
  {
   "cell_type": "code",
   "execution_count": 9,
   "id": "f28e18a6-47b1-46f9-980c-8fc3ea84870d",
   "metadata": {},
   "outputs": [],
   "source": [
    "import numpy as np \n",
    "import pandas as pd \n",
    "\n",
    "from keras.layers import Dense, Embedding, LSTM, SpatialDropout1D\n",
    "from keras.models import Sequential\n",
    "from sklearn.feature_extraction.text import CountVectorizer\n",
    "from keras.preprocessing.text import Tokenizer\n",
    "from keras_preprocessing.sequence import pad_sequences\n",
    "from sklearn.model_selection import train_test_split\n",
    "from keras.utils.np_utils import to_categorical\n",
    "from keras.callbacks import EarlyStopping\n",
    "\n",
    "import re"
   ]
  },
  {
   "cell_type": "code",
   "execution_count": 10,
   "id": "bed6b83d-c313-4178-95a7-d3f9ccdc902b",
   "metadata": {},
   "outputs": [
    {
     "data": {
      "text/html": [
       "<div>\n",
       "<style scoped>\n",
       "    .dataframe tbody tr th:only-of-type {\n",
       "        vertical-align: middle;\n",
       "    }\n",
       "\n",
       "    .dataframe tbody tr th {\n",
       "        vertical-align: top;\n",
       "    }\n",
       "\n",
       "    .dataframe thead th {\n",
       "        text-align: right;\n",
       "    }\n",
       "</style>\n",
       "<table border=\"1\" class=\"dataframe\">\n",
       "  <thead>\n",
       "    <tr style=\"text-align: right;\">\n",
       "      <th></th>\n",
       "      <th>Sentence</th>\n",
       "      <th>Sentiment</th>\n",
       "    </tr>\n",
       "  </thead>\n",
       "  <tbody>\n",
       "    <tr>\n",
       "      <th>0</th>\n",
       "      <td>The GeoSolutions technology will leverage Bene...</td>\n",
       "      <td>positive</td>\n",
       "    </tr>\n",
       "    <tr>\n",
       "      <th>1</th>\n",
       "      <td>$ESI on lows, down $1.50 to $2.50 BK a real po...</td>\n",
       "      <td>negative</td>\n",
       "    </tr>\n",
       "    <tr>\n",
       "      <th>2</th>\n",
       "      <td>For the last quarter of 2010 , Componenta 's n...</td>\n",
       "      <td>positive</td>\n",
       "    </tr>\n",
       "    <tr>\n",
       "      <th>3</th>\n",
       "      <td>According to the Finnish-Russian Chamber of Co...</td>\n",
       "      <td>neutral</td>\n",
       "    </tr>\n",
       "    <tr>\n",
       "      <th>4</th>\n",
       "      <td>The Swedish buyout firm has sold its remaining...</td>\n",
       "      <td>neutral</td>\n",
       "    </tr>\n",
       "  </tbody>\n",
       "</table>\n",
       "</div>"
      ],
      "text/plain": [
       "                                            Sentence Sentiment\n",
       "0  The GeoSolutions technology will leverage Bene...  positive\n",
       "1  $ESI on lows, down $1.50 to $2.50 BK a real po...  negative\n",
       "2  For the last quarter of 2010 , Componenta 's n...  positive\n",
       "3  According to the Finnish-Russian Chamber of Co...   neutral\n",
       "4  The Swedish buyout firm has sold its remaining...   neutral"
      ]
     },
     "execution_count": 10,
     "metadata": {},
     "output_type": "execute_result"
    }
   ],
   "source": [
    "data = pd.read_csv('Finance_data.csv')\n",
    "data.head()"
   ]
  },
  {
   "cell_type": "code",
   "execution_count": 11,
   "id": "d681b4e1-495c-488e-ba65-2680d3b25bc9",
   "metadata": {},
   "outputs": [
    {
     "data": {
      "text/plain": [
       "neutral     3130\n",
       "positive    1852\n",
       "negative     860\n",
       "Name: Sentiment, dtype: int64"
      ]
     },
     "execution_count": 11,
     "metadata": {},
     "output_type": "execute_result"
    }
   ],
   "source": [
    "data.Sentiment.value_counts()"
   ]
  },
  {
   "cell_type": "code",
   "execution_count": 12,
   "id": "fb5cf09f-8911-4e03-8606-3bb56cc2ef15",
   "metadata": {},
   "outputs": [],
   "source": [
    "num_of_categories = 2000\n",
    "\n",
    "shuffled = data.reindex(np.random.permutation(data.index))\n",
    "neutral = shuffled[shuffled['Sentiment'] == 'neutral'][:num_of_categories]\n",
    "positive = shuffled[shuffled['Sentiment'] == 'positive'][:num_of_categories]\n",
    "negative = shuffled[shuffled['Sentiment'] == 'negative'][:num_of_categories]\n",
    "concated = pd.concat([neutral, positive, negative], ignore_index=True)\n",
    "\n",
    "#Shuffle the dataset\n",
    "concated = concated.reindex(np.random.permutation(concated.index))\n",
    "concated['Label'] = 0"
   ]
  },
  {
   "cell_type": "code",
   "execution_count": 13,
   "id": "f74372c2-70ce-4186-8c15-67217b5ad8cb",
   "metadata": {},
   "outputs": [
    {
     "name": "stdout",
     "output_type": "stream",
     "text": [
      "146     2\n",
      "3368    0\n",
      "2028    0\n",
      "2593    0\n",
      "1736    2\n",
      "1738    2\n",
      "4477    1\n",
      "2572    0\n",
      "4402    1\n",
      "377     2\n",
      "Name: Label, dtype: int64\n",
      "[[0. 0. 1.]\n",
      " [1. 0. 0.]\n",
      " [1. 0. 0.]\n",
      " [1. 0. 0.]\n",
      " [0. 0. 1.]\n",
      " [0. 0. 1.]\n",
      " [0. 1. 0.]\n",
      " [1. 0. 0.]\n",
      " [0. 1. 0.]\n",
      " [0. 0. 1.]]\n"
     ]
    },
    {
     "data": {
      "text/plain": [
       "'\\n [1. 0. 0.] positive\\n [0. 1. 0.] negative\\n [0. 0. 1.] neutral\\n'"
      ]
     },
     "execution_count": 13,
     "metadata": {},
     "output_type": "execute_result"
    }
   ],
   "source": [
    "#One-hot encode the lab\n",
    "concated.loc[concated['Sentiment'] == 'positive', 'Label'] = 0\n",
    "concated.loc[concated['Sentiment'] == 'negative', 'Label'] = 1\n",
    "concated.loc[concated['Sentiment'] == 'neutral', 'Label'] = 2\n",
    "print(concated['Label'][:10])\n",
    "labels = to_categorical(concated['Label'], num_classes = 3)\n",
    "print(labels[:10])\n",
    "if 'Sentiment' in concated.keys():\n",
    "    concated.drop(['Sentiment'], axis=1)\n",
    "'''\n",
    " [1. 0. 0.] positive\n",
    " [0. 1. 0.] negative\n",
    " [0. 0. 1.] neutral\n",
    "'''"
   ]
  },
  {
   "cell_type": "code",
   "execution_count": 14,
   "id": "3a0a3635-4674-4a04-8c8d-66d6b0034025",
   "metadata": {},
   "outputs": [
    {
     "name": "stdout",
     "output_type": "stream",
     "text": [
      "Found 10207 unique tokens.\n"
     ]
    }
   ],
   "source": [
    "n_most_common_words = 10000\n",
    "max_len = 130\n",
    "\n",
    "tokenizer = Tokenizer(num_words = n_most_common_words, filters = '!\"#$%&()*+,-./:;<=>?@[\\]^_`{|}~', lower = True)\n",
    "tokenizer.fit_on_texts(concated['Sentence'].values)\n",
    "sequences = tokenizer.texts_to_sequences(concated['Sentence'].values)\n",
    "word_index = tokenizer.word_index\n",
    "\n",
    "print('Found %s unique tokens.' % len(word_index))\n",
    "\n",
    "X = pad_sequences(sequences, maxlen=max_len)"
   ]
  },
  {
   "cell_type": "code",
   "execution_count": 15,
   "id": "598de51b-a5e7-48fc-a418-031384d4eb66",
   "metadata": {},
   "outputs": [],
   "source": [
    "X_train, X_test, y_train, y_test = train_test_split(X , labels, test_size=0.20, random_state=56)"
   ]
  },
  {
   "cell_type": "code",
   "execution_count": 16,
   "id": "81c88ba1-c689-44a8-a2b4-fc00ab3cacf1",
   "metadata": {},
   "outputs": [],
   "source": [
    "#Hyperparameters\n",
    "epochs = 10\n",
    "emb_dim = 128\n",
    "batch_size = 32\n",
    "lstm_out = 128\n",
    "#Dropout Values\n",
    "#Activation Functions\n",
    "#Loss Function"
   ]
  },
  {
   "cell_type": "code",
   "execution_count": 17,
   "id": "2b1f25c6-8aaf-4ef1-9b40-13ea62d7a31a",
   "metadata": {},
   "outputs": [
    {
     "name": "stdout",
     "output_type": "stream",
     "text": [
      "((3769, 130), (3769, 3), (943, 130), (943, 3))\n"
     ]
    }
   ],
   "source": [
    "print((X_train.shape, y_train.shape, X_test.shape, y_test.shape))"
   ]
  },
  {
   "cell_type": "code",
   "execution_count": 18,
   "id": "43ec2d10-6dac-406f-8145-ea6fe13e962d",
   "metadata": {},
   "outputs": [
    {
     "name": "stderr",
     "output_type": "stream",
     "text": [
      "2023-04-09 01:25:16.385175: I tensorflow/core/platform/cpu_feature_guard.cc:193] This TensorFlow binary is optimized with oneAPI Deep Neural Network Library (oneDNN) to use the following CPU instructions in performance-critical operations:  SSE4.1 SSE4.2 AVX\n",
      "To enable them in other operations, rebuild TensorFlow with the appropriate compiler flags.\n"
     ]
    },
    {
     "name": "stdout",
     "output_type": "stream",
     "text": [
      "Model: \"sequential\"\n",
      "_________________________________________________________________\n",
      " Layer (type)                Output Shape              Param #   \n",
      "=================================================================\n",
      " embedding (Embedding)       (None, 130, 128)          1280000   \n",
      "                                                                 \n",
      " spatial_dropout1d (SpatialD  (None, 130, 128)         0         \n",
      " ropout1D)                                                       \n",
      "                                                                 \n",
      " lstm (LSTM)                 (None, 128)               131584    \n",
      "                                                                 \n",
      " dense (Dense)               (None, 3)                 387       \n",
      "                                                                 \n",
      "=================================================================\n",
      "Total params: 1,411,971\n",
      "Trainable params: 1,411,971\n",
      "Non-trainable params: 0\n",
      "_________________________________________________________________\n",
      "None\n"
     ]
    }
   ],
   "source": [
    "model = Sequential()\n",
    "model.add(Embedding(n_most_common_words, emb_dim, input_length=X.shape[1]))\n",
    "model.add(SpatialDropout1D(0.7))\n",
    "model.add(LSTM(lstm_out, dropout=0.7, recurrent_dropout=0.7))\n",
    "model.add(Dense(3, activation='softmax'))\n",
    "model.compile(optimizer='adam', loss='categorical_crossentropy', metrics=['acc'])\n",
    "print(model.summary())"
   ]
  },
  {
   "cell_type": "code",
   "execution_count": 19,
   "id": "d8cda72a-edcd-4862-a77b-ed95b46d2659",
   "metadata": {},
   "outputs": [
    {
     "name": "stdout",
     "output_type": "stream",
     "text": [
      "Epoch 1/10\n",
      "95/95 [==============================] - 208s 2s/step - loss: 1.0455 - acc: 0.4498 - val_loss: 0.9876 - val_acc: 0.5186\n",
      "Epoch 2/10\n",
      "95/95 [==============================] - 202s 2s/step - loss: 0.9743 - acc: 0.5327 - val_loss: 0.9196 - val_acc: 0.5769\n",
      "Epoch 3/10\n",
      "95/95 [==============================] - 201s 2s/step - loss: 0.8921 - acc: 0.5937 - val_loss: 0.8885 - val_acc: 0.5928\n",
      "Epoch 4/10\n",
      "95/95 [==============================] - 199s 2s/step - loss: 0.7917 - acc: 0.6514 - val_loss: 0.8451 - val_acc: 0.6273\n",
      "Epoch 5/10\n",
      "95/95 [==============================] - 200s 2s/step - loss: 0.7307 - acc: 0.6876 - val_loss: 0.7972 - val_acc: 0.6525\n",
      "Epoch 6/10\n",
      "95/95 [==============================] - 202s 2s/step - loss: 0.6467 - acc: 0.7300 - val_loss: 0.8058 - val_acc: 0.6499\n",
      "Epoch 7/10\n",
      "95/95 [==============================] - 201s 2s/step - loss: 0.5878 - acc: 0.7562 - val_loss: 0.7590 - val_acc: 0.6631\n",
      "Epoch 8/10\n",
      "95/95 [==============================] - 201s 2s/step - loss: 0.5115 - acc: 0.7964 - val_loss: 0.7754 - val_acc: 0.6618\n",
      "Epoch 9/10\n",
      "95/95 [==============================] - 202s 2s/step - loss: 0.4575 - acc: 0.8179 - val_loss: 0.7690 - val_acc: 0.6472\n",
      "Epoch 10/10\n",
      "95/95 [==============================] - 202s 2s/step - loss: 0.4340 - acc: 0.8272 - val_loss: 0.7907 - val_acc: 0.6565\n"
     ]
    }
   ],
   "source": [
    "history = model.fit(X_train, y_train, epochs=epochs, batch_size=batch_size, validation_split=0.2, callbacks=[EarlyStopping(monitor='val_loss',patience=7, min_delta=0.0001)])"
   ]
  },
  {
   "cell_type": "code",
   "execution_count": 20,
   "id": "6b9ecc7e-bed0-4de8-86fa-aeb580d1a845",
   "metadata": {},
   "outputs": [
    {
     "name": "stdout",
     "output_type": "stream",
     "text": [
      "30/30 [==============================] - 7s 249ms/step - loss: 0.7858 - acc: 0.6585\n",
      "Test set\n",
      "  Loss: 0.786\n",
      "  Accuracy: 0.659\n"
     ]
    }
   ],
   "source": [
    "accr = model.evaluate(X_test,y_test)\n",
    "print('Test set\\n  Loss: {:0.3f}\\n  Accuracy: {:0.3f}'.format(accr[0],accr[1]))"
   ]
  },
  {
   "cell_type": "code",
   "execution_count": 21,
   "id": "45a0c5ac-c621-4107-b4e9-26a5b5b31380",
   "metadata": {},
   "outputs": [
    {
     "data": {
      "image/png": "[encoded data removed]",
      "text/plain": [
       "<Figure size 640x480 with 1 Axes>"
      ]
     },
     "metadata": {},
     "output_type": "display_data"
    },
    {
     "data": {
      "image/png": "[encoded data removed]",
      "text/plain": [
       "<Figure size 640x480 with 1 Axes>"
      ]
     },
     "metadata": {},
     "output_type": "display_data"
    }
   ],
   "source": [
    "import matplotlib.pyplot as plt\n",
    "\n",
    "acc = history.history['acc']\n",
    "val_acc = history.history['val_acc']\n",
    "loss = history.history['loss']\n",
    "val_loss = history.history['val_loss']\n",
    "\n",
    "epochs = range(1, len(acc) + 1)\n",
    "\n",
    "plt.plot(epochs, acc, 'bo', label='Training acc')\n",
    "plt.plot(epochs, val_acc, 'b', label='Validation acc')\n",
    "plt.title('Training and validation accuracy')\n",
    "plt.legend()\n",
    "\n",
    "plt.figure()\n",
    "\n",
    "plt.plot(epochs, loss, 'bo', label='Training loss')\n",
    "plt.plot(epochs, val_loss, 'b', label='Validation loss')\n",
    "plt.title('Training and validation loss')\n",
    "plt.legend()\n",
    "\n",
    "plt.show()"
   ]
  },
  {
   "cell_type": "code",
   "execution_count": 28,
   "id": "7bdfe096-0700-4f45-b545-9cf790af07c6",
   "metadata": {},
   "outputs": [
    {
     "name": "stdout",
     "output_type": "stream",
     "text": [
      "1/1 [==============================] - 0s 104ms/step\n",
      "[[0.1767646  0.46741042 0.355825  ]] negative\n"
     ]
    }
   ],
   "source": [
    "txt = [\"Bad\"]\n",
    "seq = tokenizer.texts_to_sequences(txt)\n",
    "padded = pad_sequences(seq, maxlen=max_len)\n",
    "pred = model.predict(padded)\n",
    "labels = ['positive', 'negative', 'neutral']\n",
    "print(pred, labels[np.argmax(pred)])"
   ]
  },
  {
   "cell_type": "code",
   "execution_count": 29,
   "id": "81109346-b48a-4b38-bbbb-83930108a1e2",
   "metadata": {},
   "outputs": [
    {
     "data": {
      "text/html": [
       "<div>\n",
       "<style scoped>\n",
       "    .dataframe tbody tr th:only-of-type {\n",
       "        vertical-align: middle;\n",
       "    }\n",
       "\n",
       "    .dataframe tbody tr th {\n",
       "        vertical-align: top;\n",
       "    }\n",
       "\n",
       "    .dataframe thead th {\n",
       "        text-align: right;\n",
       "    }\n",
       "</style>\n",
       "<table border=\"1\" class=\"dataframe\">\n",
       "  <thead>\n",
       "    <tr style=\"text-align: right;\">\n",
       "      <th></th>\n",
       "      <th>Sentence</th>\n",
       "      <th>Sentiment</th>\n",
       "    </tr>\n",
       "  </thead>\n",
       "  <tbody>\n",
       "    <tr>\n",
       "      <th>0</th>\n",
       "      <td>When TSLA was at 1K share price :\\r\\n\\r\\n8B sa...</td>\n",
       "      <td>positive</td>\n",
       "    </tr>\n",
       "    <tr>\n",
       "      <th>1</th>\n",
       "      <td>$TSLA will go down because you own the stock… ...</td>\n",
       "      <td>positive</td>\n",
       "    </tr>\n",
       "    <tr>\n",
       "      <th>2</th>\n",
       "      <td>TSLA 🚀🚀🚀🚀🚀🚀🚀</td>\n",
       "      <td>neutral</td>\n",
       "    </tr>\n",
       "    <tr>\n",
       "      <th>3</th>\n",
       "      <td>&amp;gt;What I mean is when I started investing, t...</td>\n",
       "      <td>positive</td>\n",
       "    </tr>\n",
       "    <tr>\n",
       "      <th>4</th>\n",
       "      <td>I do trade in some ETFs.. DIV, SDIV ; USOI (it...</td>\n",
       "      <td>negative</td>\n",
       "    </tr>\n",
       "  </tbody>\n",
       "</table>\n",
       "</div>"
      ],
      "text/plain": [
       "                                            Sentence Sentiment\n",
       "0  When TSLA was at 1K share price :\\r\\n\\r\\n8B sa...  positive\n",
       "1  $TSLA will go down because you own the stock… ...  positive\n",
       "2                                       TSLA 🚀🚀🚀🚀🚀🚀🚀   neutral\n",
       "3  &gt;What I mean is when I started investing, t...  positive\n",
       "4  I do trade in some ETFs.. DIV, SDIV ; USOI (it...  negative"
      ]
     },
     "execution_count": 29,
     "metadata": {},
     "output_type": "execute_result"
    }
   ],
   "source": [
    "test = pd.read_csv('sampled2.csv')\n",
    "test.head()"
   ]
  },
  {
   "cell_type": "code",
   "execution_count": 30,
   "id": "3bf41375-41e8-4eeb-a0d0-c32e77037d60",
   "metadata": {},
   "outputs": [],
   "source": [
    "sentence = test['Sentence'].tolist()\n",
    "sentiment = test['Sentiment'].tolist()"
   ]
  },
  {
   "cell_type": "code",
   "execution_count": 31,
   "id": "0b9dabcd-8c60-45b0-9d83-8acb6ce7d792",
   "metadata": {},
   "outputs": [
    {
     "name": "stdout",
     "output_type": "stream",
     "text": [
      "6/6 [==============================] - 1s 221ms/step\n",
      "9/9 [==============================] - 2s 247ms/step\n",
      "1/1 [==============================] - 0s 161ms/step\n",
      "10/10 [==============================] - 2s 234ms/step\n",
      "16/16 [==============================] - 4s 234ms/step\n",
      "4/4 [==============================] - 1s 238ms/step\n",
      "6/6 [==============================] - 1s 220ms/step\n",
      "2/2 [==============================] - 0s 182ms/step\n",
      "14/14 [==============================] - 3s 231ms/step\n",
      "9/9 [==============================] - 2s 237ms/step\n",
      "2/2 [==============================] - 0s 99ms/step\n",
      "5/5 [==============================] - 1s 227ms/step\n",
      "10/10 [==============================] - 2s 231ms/step\n",
      "4/4 [==============================] - 1s 236ms/step\n",
      "15/15 [==============================] - 3s 230ms/step\n",
      "4/4 [==============================] - 1s 231ms/step\n",
      "2/2 [==============================] - 0s 286ms/step\n",
      "4/4 [==============================] - 1s 199ms/step\n",
      "5/5 [==============================] - 1s 227ms/step\n",
      "1/1 [==============================] - 0s 248ms/step\n",
      "3/3 [==============================] - 1s 154ms/step\n",
      "3/3 [==============================] - 1s 293ms/step\n",
      "14/14 [==============================] - 3s 238ms/step\n",
      "2/2 [==============================] - 0s 209ms/step\n",
      "10/10 [==============================] - 2s 232ms/step\n",
      "10/10 [==============================] - 2s 223ms/step\n",
      "3/3 [==============================] - 1s 201ms/step\n",
      "20/20 [==============================] - 5s 242ms/step\n",
      "2/2 [==============================] - 0s 107ms/step\n",
      "3/3 [==============================] - 1s 202ms/step\n",
      "6/6 [==============================] - 1s 202ms/step\n",
      "11/11 [==============================] - 2s 230ms/step\n",
      "11/11 [==============================] - 3s 230ms/step\n",
      "15/15 [==============================] - 4s 236ms/step\n",
      "1/1 [==============================] - 0s 170ms/step\n",
      "3/3 [==============================] - 1s 195ms/step\n",
      "5/5 [==============================] - 1s 221ms/step\n",
      "2/2 [==============================] - 0s 200ms/step\n",
      "11/11 [==============================] - 3s 240ms/step\n",
      "9/9 [==============================] - 2s 226ms/step\n",
      "7/7 [==============================] - 2s 233ms/step\n",
      "1/1 [==============================] - 0s 253ms/step\n",
      "2/2 [==============================] - 0s 111ms/step\n",
      "22/22 [==============================] - 5s 234ms/step\n",
      "2/2 [==============================] - 0s 187ms/step\n",
      "5/5 [==============================] - 1s 222ms/step\n",
      "8/8 [==============================] - 2s 229ms/step\n",
      "4/4 [==============================] - 1s 230ms/step\n",
      "4/4 [==============================] - 1s 233ms/step\n",
      "12/12 [==============================] - 3s 236ms/step\n",
      "37/37 [==============================] - 9s 245ms/step\n",
      "11/11 [==============================] - 3s 230ms/step\n",
      "4/4 [==============================] - 1s 232ms/step\n",
      "3/3 [==============================] - 1s 158ms/step\n",
      "2/2 [==============================] - 0s 195ms/step\n",
      "11/11 [==============================] - 3s 239ms/step\n",
      "1/1 [==============================] - 0s 170ms/step\n",
      "5/5 [==============================] - 1s 223ms/step\n",
      "1/1 [==============================] - 0s 192ms/step\n",
      "5/5 [==============================] - 1s 223ms/step\n",
      "2/2 [==============================] - 0s 208ms/step\n",
      "1/1 [==============================] - 0s 269ms/step\n",
      "4/4 [==============================] - 1s 234ms/step\n",
      "6/6 [==============================] - 2s 256ms/step\n",
      "3/3 [==============================] - 1s 201ms/step\n",
      "118/118 [==============================] - 28s 242ms/step\n",
      "20/20 [==============================] - 5s 242ms/step\n",
      "2/2 [==============================] - 0s 199ms/step\n",
      "11/11 [==============================] - 2s 222ms/step\n",
      "1/1 [==============================] - 0s 166ms/step\n",
      "29/29 [==============================] - 7s 239ms/step\n",
      "7/7 [==============================] - 2s 233ms/step\n",
      "3/3 [==============================] - 1s 195ms/step\n",
      "3/3 [==============================] - 1s 153ms/step\n",
      "2/2 [==============================] - 0s 96ms/step\n",
      "39/39 [==============================] - 9s 237ms/step\n",
      "1/1 [==============================] - 0s 77ms/step\n",
      "5/5 [==============================] - 1s 203ms/step\n",
      "24/24 [==============================] - 6s 243ms/step\n",
      "57/57 [==============================] - 14s 246ms/step\n",
      "1/1 [==============================] - 0s 171ms/step\n",
      "2/2 [==============================] - 0s 103ms/step\n",
      "10/10 [==============================] - 2s 243ms/step\n",
      "11/11 [==============================] - 3s 250ms/step\n",
      "1/1 [==============================] - 0s 215ms/step\n",
      "51/51 [==============================] - 12s 244ms/step\n",
      "4/4 [==============================] - 1s 235ms/step\n",
      "11/11 [==============================] - 2s 221ms/step\n",
      "4/4 [==============================] - 1s 230ms/step\n",
      "3/3 [==============================] - 1s 253ms/step\n",
      "75/75 [==============================] - 18s 242ms/step\n",
      "4/4 [==============================] - 1s 235ms/step\n",
      "25/25 [==============================] - 6s 246ms/step\n",
      "1/1 [==============================] - 0s 166ms/step\n",
      "6/6 [==============================] - 1s 239ms/step\n",
      "1/1 [==============================] - 0s 255ms/step\n",
      "21/21 [==============================] - 5s 245ms/step\n",
      "9/9 [==============================] - 2s 236ms/step\n",
      "1/1 [==============================] - 0s 250ms/step\n"
     ]
    }
   ],
   "source": [
    "i = 0\n",
    "correct = 0\n",
    "for i in range(len(sentence)):\n",
    "    test = sentence[i]\n",
    "    #print(test)\n",
    "    test = tokenizer.texts_to_sequences(test)\n",
    "    test = pad_sequences(test, maxlen = max_len, dtype = 'int32', value = 0)\n",
    "    sentiment_t = model.predict(test)[0]\n",
    "    \n",
    "    \n",
    "    actual = sentiment[i]\n",
    "    if(np.argmax(sentiment_t) == 0):\n",
    "        predicted = labels[0]\n",
    "    elif(np.argmax(sentiment_t) == 1):\n",
    "        predicted = labels[1]\n",
    "    elif(np.argmax(sentiment_t) == 2):\n",
    "        predicted = labels[2]\n",
    "    \n",
    "    if(predicted == actual):\n",
    "        correct += 1"
   ]
  },
  {
   "cell_type": "code",
   "execution_count": 26,
   "id": "91a8e69a-b1a4-45c2-b379-bc3f7bc2b0c3",
   "metadata": {},
   "outputs": [
    {
     "name": "stdout",
     "output_type": "stream",
     "text": [
      "Number of correct predictions:  40\n",
      "Total predictions made:  99\n"
     ]
    }
   ],
   "source": [
    "print(\"Number of correct predictions: \", correct)\n",
    "print(\"Total predictions made: \", len(sentence))"
   ]
  }
 ],
 "metadata": {
  "kernelspec": {
   "display_name": "Python 3 (ipykernel)",
   "language": "python",
   "name": "python3"
  },
  "language_info": {
   "codemirror_mode": {
    "name": "ipython",
    "version": 3
   },
   "file_extension": ".py",
   "mimetype": "text/x-python",
   "name": "python",
   "nbconvert_exporter": "python",
   "pygments_lexer": "ipython3",
   "version": "3.10.6"
  },
  "toc-showcode": true
 },
 "nbformat": 4,
 "nbformat_minor": 5
}
