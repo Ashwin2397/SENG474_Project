{
 "cells": [
  {
   "cell_type": "code",
   "execution_count": 89,
   "metadata": {},
   "outputs": [],
   "source": [
    "import pandas as pd\n",
    "import re"
   ]
  },
  {
   "cell_type": "code",
   "execution_count": 90,
   "metadata": {},
   "outputs": [],
   "source": [
    "data = pd.read_csv('./emData.csv', sep=',',encoding='windows-1252')\n",
    "# data.sample(5)\n",
    "atUser = \"\"\n",
    "Links = \"\"\n",
    "data['atUser'] = atUser\n",
    "data['Links'] = Links\n"
   ]
  },
  {
   "cell_type": "markdown",
   "metadata": {},
   "source": []
  },
  {
   "cell_type": "code",
   "execution_count": 91,
   "metadata": {},
   "outputs": [
    {
     "name": "stdout",
     "output_type": "stream",
     "text": [
      "0        True\n",
      "1        True\n",
      "2        True\n",
      "3       False\n",
      "4       False\n",
      "        ...  \n",
      "3213     True\n",
      "3214    False\n",
      "3215    False\n",
      "3216    False\n",
      "3217     True\n",
      "Name: Tweet, Length: 3218, dtype: bool\n"
     ]
    }
   ],
   "source": [
    "print(data.Tweet.str.contains(\"@\"))\n",
    "at_user_regex = r'@\\w+'\n",
    "link_regex = r'https://\\S+'\n",
    "data['atUser'] = data.Tweet.str.findall(at_user_regex)\n",
    "data['Links']= data.Tweet.str.findall(link_regex)\n"
   ]
  },
  {
   "cell_type": "code",
   "execution_count": 92,
   "metadata": {},
   "outputs": [],
   "source": [
    "data.to_csv('data_process.csv', index=False)"
   ]
  },
  {
   "cell_type": "code",
   "execution_count": null,
   "metadata": {},
   "outputs": [],
   "source": []
  }
 ],
 "metadata": {
  "kernelspec": {
   "display_name": "qsharp-env",
   "language": "python",
   "name": "python3"
  },
  "language_info": {
   "codemirror_mode": {
    "name": "ipython",
    "version": 3
   },
   "file_extension": ".py",
   "mimetype": "text/x-python",
   "name": "python",
   "nbconvert_exporter": "python",
   "pygments_lexer": "ipython3",
   "version": "3.10.9"
  },
  "orig_nbformat": 4
 },
 "nbformat": 4,
 "nbformat_minor": 2
}
